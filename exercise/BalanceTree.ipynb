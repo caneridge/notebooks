{
 "cells": [
  {
   "cell_type": "markdown",
   "metadata": {},
   "source": [
    "A tree is \"superbalanced\" if the difference between the depths of any two leaf nodes is no greater than one.\n",
    "\n",
    "```\n",
    "     x\n",
    "      x\n",
    "      \n",
    "     x\n",
    "    x x\n",
    "       x\n",
    "\n",
    "      x\n",
    "    x   x\n",
    "     x x x\n",
    "          x\n",
    "      x\n",
    "   x     x\n",
    "  x x   x  x\n",
    "  . .x . x xx\n",
    "             x\n",
    "```"
   ]
  },
  {
   "cell_type": "code",
   "execution_count": null,
   "metadata": {
    "collapsed": true
   },
   "outputs": [],
   "source": [
    "class BinaryTreeNode:\n",
    "    \n",
    "    def __init__(self, value):\n",
    "        self.value = value\n",
    "        self.left  = None\n",
    "        self.right = None\n",
    "\n",
    "    def insert_left(self, value):\n",
    "        self.left = BinaryTreeNode(value)\n",
    "        return self.left\n",
    "\n",
    "    def insert_right(self, value):\n",
    "        self.right = BinaryTreeNode(value)\n",
    "        return self.right"
   ]
  },
  {
   "cell_type": "code",
   "execution_count": null,
   "metadata": {
    "collapsed": false
   },
   "outputs": [],
   "source": [
    "tree = BinaryTreeNode(50)\n",
    "L = tree.insert_left(30)\n",
    "R = tree.insert_right(80)\n",
    "L.insert_left(20)\n",
    "L.insert_right(40)\n",
    "R.insert_left(70)\n",
    "rr = R.insert_right(90)\n",
    "rr.insert_left(89)\n",
    "rr.insert_right(91)"
   ]
  },
  {
   "cell_type": "code",
   "execution_count": null,
   "metadata": {
    "collapsed": false
   },
   "outputs": [],
   "source": [
    "def depth(tree, n=0):\n",
    "    if tree and n != None:\n",
    "        left, right = depth(tree.left, n+1), depth(tree.right, n+1)\n",
    "        if not left or not right:\n",
    "            return None\n",
    "        if abs(left - right) > 1:\n",
    "            return None\n",
    "        else:\n",
    "            return max(left, right)\n",
    "    return n"
   ]
  },
  {
   "cell_type": "code",
   "execution_count": null,
   "metadata": {
    "collapsed": false
   },
   "outputs": [],
   "source": [
    "print depth(tree)"
   ]
  },
  {
   "cell_type": "code",
   "execution_count": null,
   "metadata": {
    "collapsed": false
   },
   "outputs": [],
   "source": [
    "def tree_values(tree):\n",
    "    if tree.left:\n",
    "        for value in tree_values(tree.left):\n",
    "            yield value\n",
    "        \n",
    "    yield tree.value\n",
    "    \n",
    "    if tree.right:\n",
    "        for value in tree_values(tree.right):\n",
    "            yield value        "
   ]
  },
  {
   "cell_type": "code",
   "execution_count": null,
   "metadata": {
    "collapsed": false
   },
   "outputs": [],
   "source": [
    "def is_ordered(tree):\n",
    "    ordered = True\n",
    "    valuable = tree_values(tree)\n",
    "    prior_value = next(valuable)\n",
    "    for value in valuable:\n",
    "        if prior_value <= value:\n",
    "            prior_value = value\n",
    "        else:\n",
    "            ordered = False\n",
    "            break\n",
    "    return ordered"
   ]
  },
  {
   "cell_type": "code",
   "execution_count": null,
   "metadata": {
    "collapsed": false
   },
   "outputs": [],
   "source": [
    "%%timeit\n",
    "is_ordered(tree)"
   ]
  },
  {
   "cell_type": "code",
   "execution_count": null,
   "metadata": {
    "collapsed": false
   },
   "outputs": [],
   "source": [
    "for value in tree_values(tree):\n",
    "    print value"
   ]
  },
  {
   "cell_type": "code",
   "execution_count": null,
   "metadata": {
    "collapsed": false
   },
   "outputs": [],
   "source": [
    "5 <= 10"
   ]
  },
  {
   "cell_type": "code",
   "execution_count": null,
   "metadata": {
    "collapsed": true
   },
   "outputs": [],
   "source": [
    "def bst_checker(root):\n",
    "\n",
    "    # start at the root, with an arbitrarily low lower bound\n",
    "    # and an arbitrarily high upper bound\n",
    "    node_and_bounds_stack = [(root, -float('inf'), float('inf'))]\n",
    "\n",
    "    # depth-first traversal\n",
    "    while len(node_and_bounds_stack):\n",
    "        node, lower_bound, upper_bound = node_and_bounds_stack.pop()\n",
    "\n",
    "        # if this node is invalid, we return false right away\n",
    "        if (node.value < lower_bound) or (node.value > upper_bound):\n",
    "            return False\n",
    "\n",
    "        if node.left:\n",
    "            # this node must be less than the current node\n",
    "            node_and_bounds_stack.append((node.left, lower_bound, node.value))\n",
    "        if node.right:\n",
    "            # this node must be greater than the current node\n",
    "            node_and_bounds_stack.append((node.right, node.value, upper_bound))\n",
    "\n",
    "    # if none of the nodes were invalid, return true\n",
    "    # (at this point we have checked all nodes)\n",
    "    return True"
   ]
  },
  {
   "cell_type": "code",
   "execution_count": null,
   "metadata": {
    "collapsed": false
   },
   "outputs": [],
   "source": [
    "%%timeit\n",
    "bst_checker(tree)"
   ]
  },
  {
   "cell_type": "code",
   "execution_count": null,
   "metadata": {
    "collapsed": false
   },
   "outputs": [],
   "source": [
    "def eert_values(tree):\n",
    "    if tree.right:\n",
    "        for value in eert_values(tree.right):\n",
    "            yield value\n",
    "    yield tree.value\n",
    "            \n",
    "    if tree.left:\n",
    "        for value in eert_values(tree.left):\n",
    "            yield value\n"
   ]
  },
  {
   "cell_type": "code",
   "execution_count": null,
   "metadata": {
    "collapsed": false
   },
   "outputs": [],
   "source": [
    "reverse_values = eert_values(tree)\n",
    "second = next(reverse_values)\n",
    "for value in reverse_values:\n",
    "    if value < second:\n",
    "        second = value\n",
    "        break\n",
    "print second"
   ]
  },
  {
   "cell_type": "code",
   "execution_count": null,
   "metadata": {
    "collapsed": true
   },
   "outputs": [],
   "source": []
  }
 ],
 "metadata": {
  "kernelspec": {
   "display_name": "Python 2",
   "language": "python",
   "name": "python2"
  },
  "language_info": {
   "codemirror_mode": {
    "name": "ipython",
    "version": 2
   },
   "file_extension": ".py",
   "mimetype": "text/x-python",
   "name": "python",
   "nbconvert_exporter": "python",
   "pygments_lexer": "ipython2",
   "version": "2.7.11"
  }
 },
 "nbformat": 4,
 "nbformat_minor": 0
}
