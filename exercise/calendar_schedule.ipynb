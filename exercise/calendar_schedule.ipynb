{
 "cells": [
  {
   "cell_type": "markdown",
   "metadata": {},
   "source": [
    "Your company built an in-house calendar tool called HiCal. You want to add a feature to see the times in a day when everyone is available.\n",
    "\n",
    "To do this, you’ll need to know when any team is having a meeting. In HiCal, a meeting is stored as tuples ↴ of integers (start_time, end_time). These integers represent the number of 30-minute blocks past 9:00am.\n",
    "\n",
    "(2, 3) # meeting from 10:00 – 10:30 am\n",
    "(6, 9) # meeting from 12:00 – 1:30 pm"
   ]
  },
  {
   "cell_type": "code",
   "execution_count": null,
   "metadata": {
    "collapsed": true
   },
   "outputs": [],
   "source": [
    "def related(a,b):\n",
    "    is_related = (a[0] <= b[0] and b[0] <= a[1]) or (a[0] <= b[1] and b[1] <= a[1])\n",
    "    #print(\"related:\", a, b, is_related)\n",
    "    return is_related\n",
    "\n",
    "def join(a,b):\n",
    "    return min(a[0], b[0]), max(a[1], b[1])\n",
    "\n",
    "def calendar_schedule(meetings):\n",
    "    results = []\n",
    "    for entry in sorted(meetings):\n",
    "        for i,x in enumerate(results):\n",
    "            if related(x, entry):\n",
    "                results[i] = join(entry, x)\n",
    "                #print(\"In place:\", results)\n",
    "                break\n",
    "        else:\n",
    "            results.append(entry)\n",
    "            #print(\"Append:\", results)\n",
    "    return results"
   ]
  },
  {
   "cell_type": "code",
   "execution_count": null,
   "metadata": {
    "collapsed": false
   },
   "outputs": [],
   "source": [
    "meetings = [(0, 1), (3, 5), (4, 8), (10, 12), (9, 10)]\n",
    "calendar_schedule(meetings)"
   ]
  },
  {
   "cell_type": "code",
   "execution_count": null,
   "metadata": {
    "collapsed": false
   },
   "outputs": [],
   "source": [
    "oox = [(0,1), (2,3), (4,5), (1,5)]\n",
    "calendar_schedule(oox)"
   ]
  },
  {
   "cell_type": "code",
   "execution_count": null,
   "metadata": {
    "collapsed": false
   },
   "outputs": [],
   "source": [
    "calendar_schedule([(1, 2), (2, 3)])"
   ]
  },
  {
   "cell_type": "code",
   "execution_count": null,
   "metadata": {
    "collapsed": false
   },
   "outputs": [],
   "source": [
    "calendar_schedule([(1, 10), (2, 6), (3, 5), (7, 9)])"
   ]
  },
  {
   "cell_type": "code",
   "execution_count": null,
   "metadata": {
    "collapsed": true
   },
   "outputs": [],
   "source": [
    "def combs(coins, i=0):\n",
    "    if i == len(coins):\n",
    "        yield ()\n",
    "        return\n",
    "    for c in combs(coins, i+1):\n",
    "        yield c\n",
    "        yield c+(coins[i],)"
   ]
  },
  {
   "cell_type": "code",
   "execution_count": null,
   "metadata": {
    "collapsed": false
   },
   "outputs": [],
   "source": [
    "coins = (1,2,3)\n",
    "\n",
    "g = combs(coins)\n",
    "for i in g:\n",
    "    print i"
   ]
  },
  {
   "cell_type": "code",
   "execution_count": null,
   "metadata": {
    "collapsed": false
   },
   "outputs": [],
   "source": [
    "import copy\n",
    "def combinations1(target, data):\n",
    "    for i in range(len(data)):\n",
    "        new_target = copy.copy(target)\n",
    "        new_target.append(data[i])\n",
    "        print new_target\n",
    "        combinations(new_target, data[i+1:])"
   ]
  },
  {
   "cell_type": "code",
   "execution_count": null,
   "metadata": {
    "collapsed": true
   },
   "outputs": [],
   "source": [
    "def combinations(values, combination=[]):\n",
    "    yield(combination)\n",
    "    for i,x in enumerate(values):\n",
    "        for combo in combinations(values[i+1:], combination + [x]):\n",
    "            yield(combo)"
   ]
  },
  {
   "cell_type": "code",
   "execution_count": null,
   "metadata": {
    "collapsed": false
   },
   "outputs": [],
   "source": [
    "#combinations1([], [1,2,3])\n",
    "print \"---\"\n",
    "for j in combinations([1,2,3,4]):\n",
    "    print j"
   ]
  },
  {
   "cell_type": "code",
   "execution_count": null,
   "metadata": {
    "collapsed": false
   },
   "outputs": [],
   "source": [
    "[1,2, 3,4][0:]"
   ]
  },
  {
   "cell_type": "code",
   "execution_count": null,
   "metadata": {
    "collapsed": false
   },
   "outputs": [],
   "source": [
    "for i in range(len([])):\n",
    "    print i"
   ]
  },
  {
   "cell_type": "code",
   "execution_count": null,
   "metadata": {
    "collapsed": true
   },
   "outputs": [],
   "source": []
  }
 ],
 "metadata": {
  "kernelspec": {
   "display_name": "Python 2",
   "language": "python",
   "name": "python2"
  },
  "language_info": {
   "codemirror_mode": {
    "name": "ipython",
    "version": 2
   },
   "file_extension": ".py",
   "mimetype": "text/x-python",
   "name": "python",
   "nbconvert_exporter": "python",
   "pygments_lexer": "ipython2",
   "version": "2.7.11"
  }
 },
 "nbformat": 4,
 "nbformat_minor": 0
}
