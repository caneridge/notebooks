{
 "cells": [
  {
   "cell_type": "markdown",
   "metadata": {},
   "source": [
    "Write a function to find the rectangular intersection of two given love rectangles.\n",
    "\n",
    "As with the example above, love rectangles are always \"straight\" and never \"diagonal.\" More rigorously: each side is parallel with either the x-axis or the y-axis."
   ]
  },
  {
   "cell_type": "code",
   "execution_count": null,
   "metadata": {
    "collapsed": true
   },
   "outputs": [],
   "source": [
    "r1 = {\n",
    "    # coordinates of bottom-left corner\n",
    "    'leftX': 1,\n",
    "    'bottomY': 1,\n",
    "\n",
    "    # width and height\n",
    "    'width': 2,\n",
    "    'height': 2,\n",
    "}\n",
    "\n",
    "r2 = {\n",
    "    # coordinates of bottom-left corner\n",
    "    'leftX': 3,\n",
    "    'bottomY': 1,\n",
    "\n",
    "    # width and height\n",
    "    'width': 1,\n",
    "    'height': 1,\n",
    "}"
   ]
  },
  {
   "cell_type": "code",
   "execution_count": null,
   "metadata": {
    "collapsed": false
   },
   "outputs": [],
   "source": [
    "def normalize_w_h(rect):\n",
    "    if rect['width'] < 0:\n",
    "        x = rect['width'] + rect['leftX']\n",
    "        rect['width'] = rect['leftX'] - rect['width']\n",
    "        rect['leftX'] = x\n",
    "    if rect['height'] < 0:\n",
    "        x = rect['height'] + rect['leftY']\n",
    "        rect['height'] = rect['leftY'] - rect['height']\n",
    "        rect['leftY'] = x\n",
    "\n",
    "def normalize(r1, r2):\n",
    "    offsetX = r1['leftX'] * -1 \n",
    "    offsetY = r1['bottomY'] * -1\n",
    "    \n",
    "    r1['leftX'] += offsetX\n",
    "    r1['bottomY'] += offsetY\n",
    "\n",
    "    r2['leftX'] += offsetX\n",
    "    r2['bottomY'] += offsetY\n",
    "    return (offsetX, offsetY)"
   ]
  },
  {
   "cell_type": "code",
   "execution_count": null,
   "metadata": {
    "collapsed": false
   },
   "outputs": [],
   "source": [
    "normalize_w_h(r1)\n",
    "normalize_w_h(r2)\n",
    "\n",
    "offset = normalize(r1, r2)\n",
    "\n",
    "# r2 upper right point\n",
    "xx,yy = r2['leftX']+r2['width'], r2['bottomY']+r2['height']\n",
    "\n",
    "if r1['width'] < r2['leftX'] and r1['height'] < r2['bottomY']:\n",
    "    # r2:lower,left is above r1:upper,right\n",
    "    print \"None1\"\n",
    "elif xx < 0 or yy < 0:\n",
    "    # r2:upper,right is below r1:lower,left\n",
    "    print \"None2\"\n",
    "else:\n",
    "    clipX1, clipY1 = max(r2['leftX'], 0), max(r2['bottomY'], 0)\n",
    "    clipX2, clipY2 = min(r1['width'], xx), min(r1['height'], yy)\n",
    "    \n",
    "    ox, oy = offset[0] * -1, offset[1] * -1\n",
    "    union = {\n",
    "        # coordinates of bottom-left corner\n",
    "        'leftX': clipX1 + ox,\n",
    "        'bottomY': clipY1 + oy,\n",
    "\n",
    "        # width and height\n",
    "        'width': clipX2 - clipX1,\n",
    "        'height': clipY2 - clipY1,\n",
    "    }\n",
    "\n",
    "    print union"
   ]
  },
  {
   "cell_type": "markdown",
   "metadata": {},
   "source": [
    "```\n",
    "r2: origin\n",
    "    x,y    up, right   => clip to r2.x, r2.y\n",
    "    -x,y   left        => clip to r1.x, r2.y\n",
    "    x,-y   below       => clip to r2.x, r1.y\n",
    "    -x,-y  left,below  => clip to r1.x, r1.y\n",
    "    \n",
    "r2: upper right as xx,yy = x+width, y+height\n",
    "    xx,yy    min(r1.x, xx), min(r1.y, yy)\n",
    "    -xx,yy   None, None\n",
    "    xx,-yy   None, None\n",
    "    -xx,-yy  None, None\n",
    "```"
   ]
  },
  {
   "cell_type": "code",
   "execution_count": null,
   "metadata": {
    "collapsed": true
   },
   "outputs": [],
   "source": [
    "def find_range_overlap(left1, length1, left2, length2):\n",
    "    left = max(left1, left2)\n",
    "    right = min(left1 + length1, left2 + length2)\n",
    "\n",
    "    if right > left:\n",
    "        return (left, right - left)\n",
    "    else:\n",
    "        return (None, None)\n",
    "\n",
    "def find_rectangular_overlap(rect1, rect2):\n",
    "\n",
    "    # get the x and y overlap points and lengths\n",
    "    x_overlap_point, overlap_width  = find_range_overlap(\\\n",
    "        rect1['leftX'], rect1['width'],  rect2['leftX'], rect2['width'])\n",
    "    y_overlap_point, overlap_height = find_range_overlap(\\\n",
    "        rect1['bottomY'], rect1['height'], rect2['bottomY'], rect2['height'])\n",
    "\n",
    "    # return null rectangle if there is no overlap\n",
    "    if not overlap_width or not overlap_height:\n",
    "        return {\n",
    "            'leftX': None,\n",
    "            'bottomY': None,\n",
    "            'width': None,\n",
    "            'height': None,\n",
    "        }\n",
    "\n",
    "    return {\n",
    "        'leftX': x_overlap_point,\n",
    "        'bottomY': y_overlap_point,\n",
    "        'width': overlap_width,\n",
    "        'height': overlap_height,\n",
    "    }"
   ]
  }
 ],
 "metadata": {
  "kernelspec": {
   "display_name": "Python 2",
   "language": "python",
   "name": "python2"
  },
  "language_info": {
   "codemirror_mode": {
    "name": "ipython",
    "version": 2
   },
   "file_extension": ".py",
   "mimetype": "text/x-python",
   "name": "python",
   "nbconvert_exporter": "python",
   "pygments_lexer": "ipython2",
   "version": "2.7.11"
  }
 },
 "nbformat": 4,
 "nbformat_minor": 0
}
