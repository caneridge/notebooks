{
 "cells": [
  {
   "cell_type": "markdown",
   "metadata": {},
   "source": [
    "Write a class TempTracker with these methods:\n",
    "\n",
    "insert()—records a new temperature\n",
    "get_max()—returns the highest temp we've seen so far\n",
    "get_min()—returns the lowest temp we've seen so far\n",
    "get_mean()—returns the mean of all temps we've seen so far\n",
    "get_mode()—returns the mode of all temps we've seen so far\n",
    "Optimize for space and time. Favor speeding up the getter functions (get_max(), get_min(), get_mean(), and get_mode()) over speeding up the insert() function.\n",
    "\n",
    "get_mean() should return a float, but the rest of the getter functions can return integers. Temperatures will all be inserted as integers. We'll record our temperatures in Fahrenheit, so we can assume they'll all be in the range \n",
    "0..110\n",
    "\n",
    "If there is more than one mode, return any of the modes."
   ]
  },
  {
   "cell_type": "code",
   "execution_count": null,
   "metadata": {
    "collapsed": false
   },
   "outputs": [],
   "source": [
    "class TempTracker:\n",
    "    def __init__(self):\n",
    "        self.temps = [None for i in xrange(111)]\n",
    "        self.temp_max = 0\n",
    "        self.temp_min = 999\n",
    "        self.num_temps = 0\n",
    "        self.total_temp = 0\n",
    "    \n",
    "    def insert(self, temp):\n",
    "        temp = int(temp)\n",
    "        self.temp_max = max(temp, self.temp_max)\n",
    "        self.temp_min = min(temp, self.temp_min)\n",
    "        self.temps[temp] += 1\n",
    "        self.num_temps += 1\n",
    "        self.total_temp += temp\n",
    "    \n",
    "    def get_max(self):\n",
    "        return self.temp_max\n",
    "    \n",
    "    def get_min(self):\n",
    "        return self.temp_min\n",
    "    \n",
    "    def get_mean(self):\n",
    "        if self.num_temps == 0:\n",
    "            return 0\n",
    "        else:\n",
    "            return float(self.total_temp) / float(self.num_temps)\n",
    "    \n",
    "    def get_mode(self):\n",
    "        if self.num_temps == 0:\n",
    "            return None\n",
    "        \n",
    "        alamode = max(self.temps)\n",
    "        return self.temps.index(alamode)\n",
    "        \n",
    "tt = TempTracker()"
   ]
  }
 ],
 "metadata": {
  "kernelspec": {
   "display_name": "Python 2",
   "language": "python",
   "name": "python2"
  },
  "language_info": {
   "codemirror_mode": {
    "name": "ipython",
    "version": 2
   },
   "file_extension": ".py",
   "mimetype": "text/x-python",
   "name": "python",
   "nbconvert_exporter": "python",
   "pygments_lexer": "ipython2",
   "version": "2.7.11"
  }
 },
 "nbformat": 4,
 "nbformat_minor": 0
}
