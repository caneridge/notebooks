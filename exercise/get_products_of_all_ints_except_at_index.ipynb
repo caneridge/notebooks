{
 "cells": [
  {
   "cell_type": "markdown",
   "metadata": {},
   "source": [
    "You have a list of integers, and for each index you want to find the product of every integer except the integer at that index."
   ]
  },
  {
   "cell_type": "code",
   "execution_count": null,
   "metadata": {
    "collapsed": true
   },
   "outputs": [],
   "source": [
    "def get_products_of_all_ints_except_at_index(n):\n",
    "    if len(n) < 2:\n",
    "        return None\n",
    "    else:\n",
    "        return [reduce(lambda x,y: x*y, n[:i] + n[i+1:]) for i in range(len(n))]\n",
    "        #return [n[:i] + n[i+1:] for i in range(len(n))]"
   ]
  },
  {
   "cell_type": "code",
   "execution_count": null,
   "metadata": {
    "collapsed": false
   },
   "outputs": [],
   "source": [
    "get_products_of_all_ints_except_at_index([1,3,0,7,0])"
   ]
  },
  {
   "cell_type": "code",
   "execution_count": null,
   "metadata": {
    "collapsed": false
   },
   "outputs": [],
   "source": [
    "get_products_of_all_ints_except_at_index([2,3])"
   ]
  },
  {
   "cell_type": "code",
   "execution_count": null,
   "metadata": {
    "collapsed": false
   },
   "outputs": [],
   "source": [
    "%%timeit\n",
    "a = [1 for x in range(2)]\n",
    "get_products_of_all_ints_except_at_index(a)"
   ]
  },
  {
   "cell_type": "code",
   "execution_count": null,
   "metadata": {
    "collapsed": false
   },
   "outputs": [],
   "source": [
    "%%timeit\n",
    "a = [1 for x in range(20)]\n",
    "get_products_of_all_ints_except_at_index(a)"
   ]
  },
  {
   "cell_type": "code",
   "execution_count": null,
   "metadata": {
    "collapsed": false
   },
   "outputs": [],
   "source": [
    "%%timeit\n",
    "a = [1 for x in range(40)]\n",
    "get_products_of_all_ints_except_at_index(a)"
   ]
  },
  {
   "cell_type": "code",
   "execution_count": null,
   "metadata": {
    "collapsed": false
   },
   "outputs": [],
   "source": [
    "%%timeit\n",
    "a = [1 for x in range(80)]\n",
    "get_products_of_all_ints_except_at_index(a)"
   ]
  },
  {
   "cell_type": "code",
   "execution_count": null,
   "metadata": {
    "collapsed": false
   },
   "outputs": [],
   "source": [
    "%%timeit\n",
    "a = [1 for x in range(160)]\n",
    "get_products_of_all_ints_except_at_index(a)"
   ]
  },
  {
   "cell_type": "code",
   "execution_count": null,
   "metadata": {
    "collapsed": true
   },
   "outputs": [],
   "source": [
    "def get_products_of_all_ints_except_at_index2(int_list):\n",
    "\n",
    "    # we make a list with the length of the input list to\n",
    "    # hold our products\n",
    "    products = [None] * len(int_list)\n",
    "\n",
    "    # for each integer, we find the product of all the integers\n",
    "    # before it, storing the total product so far each time\n",
    "    product_so_far = 1\n",
    "    for i in range(len(int_list)):\n",
    "        products[i] = product_so_far\n",
    "        print products\n",
    "        product_so_far *= int_list[i]\n",
    "        \n",
    "    print(\"---\")\n",
    "\n",
    "    # for each integer, we find the product of all the integers\n",
    "    # after it. since each index in products already has the\n",
    "    # product of all the integers before it, now we're storing\n",
    "    # the total product of all other integers\n",
    "    product_so_far = 1\n",
    "    i = len(int_list) - 1\n",
    "    while i >= 0:\n",
    "        products[i] *= product_so_far\n",
    "        print(products)\n",
    "        product_so_far *= int_list[i]\n",
    "        i -= 1\n",
    "\n",
    "    return products"
   ]
  },
  {
   "cell_type": "code",
   "execution_count": null,
   "metadata": {
    "collapsed": false
   },
   "outputs": [],
   "source": [
    "a = [x+1 for x in range(10)]\n",
    "print(a)\n",
    "get_products_of_all_ints_except_at_index2(a)"
   ]
  },
  {
   "cell_type": "code",
   "execution_count": null,
   "metadata": {
    "collapsed": false
   },
   "outputs": [],
   "source": [
    "%%timeit\n",
    "a = [1 for x in range(20)]\n",
    "get_products_of_all_ints_except_at_index2(a)"
   ]
  },
  {
   "cell_type": "code",
   "execution_count": null,
   "metadata": {
    "collapsed": false
   },
   "outputs": [],
   "source": [
    "%%timeit\n",
    "a = [1 for x in range(40)]\n",
    "get_products_of_all_ints_except_at_index2(a)"
   ]
  },
  {
   "cell_type": "code",
   "execution_count": null,
   "metadata": {
    "collapsed": false
   },
   "outputs": [],
   "source": [
    "%%timeit\n",
    "a = [1 for x in range(80)]\n",
    "get_products_of_all_ints_except_at_index2(a)"
   ]
  },
  {
   "cell_type": "code",
   "execution_count": null,
   "metadata": {
    "collapsed": true
   },
   "outputs": [],
   "source": []
  }
 ],
 "metadata": {
  "kernelspec": {
   "display_name": "Python 2",
   "language": "python",
   "name": "python2"
  },
  "language_info": {
   "codemirror_mode": {
    "name": "ipython",
    "version": 2
   },
   "file_extension": ".py",
   "mimetype": "text/x-python",
   "name": "python",
   "nbconvert_exporter": "python",
   "pygments_lexer": "ipython2",
   "version": "2.7.11"
  }
 },
 "nbformat": 4,
 "nbformat_minor": 0
}
