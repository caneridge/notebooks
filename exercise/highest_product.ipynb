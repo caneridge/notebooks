{
 "cells": [
  {
   "cell_type": "markdown",
   "metadata": {},
   "source": [
    "Given a list_of_ints, find the highest_product you can get from three of the integers.\n",
    "\n",
    "```\n",
    "X X X = + Largest positives\n",
    "x x - = - Smallest absolute\n",
    "X / / = + Largest absolute\n",
    "- - - = - Smallest absolute\n",
    "\n",
    "X X X X = + right max4\n",
    "x x x - = - right max4\n",
    "X X / / = + right max2 left max2\n",
    "X - - - = - right max4\n",
    "- - - - = + left max4\n",
    "\n",
    "3 largest  > 0\n",
    "2 smallest > 0, 1 largest negative\n",
    "1 largest  > 0, 2 smallest negative \n",
    "```"
   ]
  },
  {
   "cell_type": "code",
   "execution_count": null,
   "metadata": {
    "collapsed": true
   },
   "outputs": [],
   "source": [
    "def highest_product(ints):\n",
    "    # a <= b <= c\n",
    "    a,b,c = ints[0:3]\n",
    "    if a > b: a,b = b,a\n",
    "    if a > c: a,c = c,a\n",
    "    if b > c: b,c = c,b\n",
    "        \n",
    "    # smallest negatives\n",
    "    # A <= B\n",
    "    A,B = 0,0\n",
    "        \n",
    "    for i in ints[:3]:\n",
    "        if i <= A:\n",
    "            # Save smallest negatives for +-- case\n",
    "            A,B = i,A\n",
    "        elif i <= B:\n",
    "            B = i\n",
    "                \n",
    "    for i in ints[3:]:\n",
    "        if i <= A:\n",
    "            # Save smallest negatives for +-- case\n",
    "            A,B = i,A\n",
    "        elif i < B:\n",
    "            B = i\n",
    "        elif i >= c:\n",
    "            # New largest \n",
    "            a,b,c = b,c,i\n",
    "        elif i >= b:\n",
    "            a,b = b,i\n",
    "        elif i > a:\n",
    "            a = i\n",
    "    \n",
    "    #print(a,b,c,A,B)\n",
    "\n",
    "    if A < 0 and B < 0:\n",
    "        return max(a * b * c, c * A * B)\n",
    "    else:\n",
    "        return a * b * c\n"
   ]
  },
  {
   "cell_type": "code",
   "execution_count": null,
   "metadata": {
    "collapsed": false
   },
   "outputs": [],
   "source": [
    "print highest_product([0,1,-2,3,-4])\n"
   ]
  },
  {
   "cell_type": "code",
   "execution_count": null,
   "metadata": {
    "collapsed": false
   },
   "outputs": [],
   "source": [
    "%%timeit\n",
    "ints = [random.randint(-100,1000) for i in range(10000)]\n",
    "\n",
    "highest_product(ints)"
   ]
  },
  {
   "cell_type": "code",
   "execution_count": null,
   "metadata": {
    "collapsed": true
   },
   "outputs": [],
   "source": [
    "def highest_product_of_3(list_of_ints):\n",
    "    if len(list_of_ints) < 3:\n",
    "        raise Exception('Less than 3 items!')\n",
    "\n",
    "    # We're going to start at the 3rd item (at index 2)\n",
    "    # so pre-populate highests and lowests based on the first 2 items.\n",
    "    # we could also start these as None and check below if they're set\n",
    "    # but this is arguably cleaner\n",
    "    highest = max(list_of_ints[0], list_of_ints[1])\n",
    "    lowest =  min(list_of_ints[0], list_of_ints[1])\n",
    "\n",
    "    highest_product_of_2 = list_of_ints[0] * list_of_ints[1]\n",
    "    lowest_product_of_2  = list_of_ints[0] * list_of_ints[1]\n",
    "\n",
    "    # except this one--we pre-populate it for the first /3/ items.\n",
    "    # this means in our first pass it'll check against itself, which is fine.\n",
    "    highest_product_of_three = list_of_ints[0] * list_of_ints[1] * list_of_ints[2]\n",
    "\n",
    "    # walk through items, starting at index 2\n",
    "    for current in list_of_ints[2:]:\n",
    "\n",
    "        # do we have a new highest product of 3?\n",
    "        # it's either the current highest,\n",
    "        # or the current times the highest product of two\n",
    "        # or the current times the lowest product of two\n",
    "        highest_product_of_three = max(\n",
    "            highest_product_of_three,\n",
    "            current * highest_product_of_2,\n",
    "            current * lowest_product_of_2)\n",
    "\n",
    "        # do we have a new highest product of two?\n",
    "        highest_product_of_2 = max(\n",
    "            highest_product_of_2,\n",
    "            current * highest,\n",
    "            current * lowest)\n",
    "\n",
    "        # do we have a new lowest product of two?\n",
    "        lowest_product_of_2 = min(\n",
    "            lowest_product_of_2,\n",
    "            current * highest,\n",
    "            current * lowest)\n",
    "\n",
    "        # do we have a new highest?\n",
    "        highest = max(highest, current)\n",
    "\n",
    "        # do we have a new lowest?\n",
    "        lowest = min(lowest, current)\n",
    "\n",
    "    return highest_product_of_three"
   ]
  },
  {
   "cell_type": "code",
   "execution_count": null,
   "metadata": {
    "collapsed": false
   },
   "outputs": [],
   "source": [
    "%%timeit -n 10 ints = [random.randint(-100,100) for i in range(100000)]\n",
    "\n",
    "highest_product_of_3(ints)"
   ]
  },
  {
   "cell_type": "code",
   "execution_count": null,
   "metadata": {
    "collapsed": false
   },
   "outputs": [],
   "source": [
    "%%timeit -n 10 ints = [random.randint(-100,100) for i in range(100000)]\n",
    "\n",
    "highest_product_of_3(ints)"
   ]
  },
  {
   "cell_type": "code",
   "execution_count": null,
   "metadata": {
    "collapsed": false
   },
   "outputs": [],
   "source": [
    "%%timeit -n 10 ints = [random.randint(-100,100) for i in range(100000)]\n",
    "\n",
    "highest_product_by_max(ints)"
   ]
  },
  {
   "cell_type": "code",
   "execution_count": null,
   "metadata": {
    "collapsed": false
   },
   "outputs": [],
   "source": [
    "def highest_product_by_max(ints_by_ref):\n",
    "    ints = ints_by_ref[:]\n",
    "    c = max(ints)\n",
    "    ci = ints.index(c)\n",
    "    ints[ci] = None\n",
    "\n",
    "    b = max(ints)\n",
    "    bi = ints.index(b)\n",
    "    ints[bi] = None\n",
    "    \n",
    "    a = max(ints)\n",
    "\n",
    "    ints[bi] = 0\n",
    "    ints[ci] = 0\n",
    "\n",
    "    A = min(ints)\n",
    "    \n",
    "    B = 0\n",
    "    if A < 0:\n",
    "        Ai = ints.index(A)\n",
    "        ints[Ai] = 0\n",
    "        B = min(ints)\n",
    "    \n",
    "    return max(a * b * c, c * A * B)"
   ]
  },
  {
   "cell_type": "code",
   "execution_count": null,
   "metadata": {
    "collapsed": true
   },
   "outputs": [],
   "source": [
    "def highest_product_by_sort(ints):\n",
    "    s = sorted(ints)\n",
    "    a = s[-1] * s[-2] * s[-3]\n",
    "    b = s[-1] * s[0] * s[1]\n",
    "    return max(a, b)\n",
    "    "
   ]
  },
  {
   "cell_type": "code",
   "execution_count": null,
   "metadata": {
    "collapsed": false
   },
   "outputs": [],
   "source": [
    "a1 = [random.randint(-1000000, 1000000) for i in range(1000000)]\n",
    "a2 = a1[:]\n",
    "a3 = a1[:]\n",
    "a4 = a1[:]\n",
    "%timeit highest_product_by_max(a1)\n",
    "%timeit highest_product(a2)\n",
    "%timeit highest_product_by_sort(a3)\n",
    "%timeit highest_product_of_3(a4)"
   ]
  },
  {
   "cell_type": "code",
   "execution_count": null,
   "metadata": {
    "collapsed": false
   },
   "outputs": [],
   "source": [
    "a1 = [random.randint(-1000, 1000) for i in range(100)]\n",
    "a2 = a1[:]\n",
    "a3 = a1[:]\n",
    "print highest_product_by_max(a1)\n",
    "print highest_product(a2)\n",
    "print highest_product_by_sort(a3)"
   ]
  },
  {
   "cell_type": "code",
   "execution_count": null,
   "metadata": {
    "collapsed": true
   },
   "outputs": [],
   "source": []
  }
 ],
 "metadata": {
  "kernelspec": {
   "display_name": "Python 2",
   "language": "python",
   "name": "python2"
  },
  "language_info": {
   "codemirror_mode": {
    "name": "ipython",
    "version": 2
   },
   "file_extension": ".py",
   "mimetype": "text/x-python",
   "name": "python",
   "nbconvert_exporter": "python",
   "pygments_lexer": "ipython2",
   "version": "2.7.11"
  }
 },
 "nbformat": 4,
 "nbformat_minor": 0
}
