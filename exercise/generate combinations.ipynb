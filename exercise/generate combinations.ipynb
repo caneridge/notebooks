{
 "cells": [
  {
   "cell_type": "markdown",
   "metadata": {},
   "source": [
    "Use a generator to create a list of combinations from a list."
   ]
  },
  {
   "cell_type": "code",
   "execution_count": null,
   "metadata": {
    "collapsed": true
   },
   "outputs": [],
   "source": [
    "def combinations(values, combination=[]):\n",
    "    for i,x in enumerate(values):\n",
    "        yield(combination + [x])\n",
    "        for combo in combinations(values[i+1:], combination + [x]):\n",
    "            yield(combo)"
   ]
  },
  {
   "cell_type": "code",
   "execution_count": null,
   "metadata": {
    "collapsed": true
   },
   "outputs": [],
   "source": [
    "def tuple_combo(tuples, combination=[]):\n",
    "    if len(tuples) == 0:\n",
    "        yield combination\n",
    "    else:\n",
    "        a,b = tuples[0]\n",
    "        for n in xrange(a, b+1):\n",
    "            for result in tuple_combo(tuples[1:], combination + [n]):\n",
    "                yield result"
   ]
  },
  {
   "cell_type": "code",
   "execution_count": null,
   "metadata": {
    "collapsed": false
   },
   "outputs": [],
   "source": [
    "def calculate_change(amount, values):\n",
    "    for combination in combinations(values):\n",
    "        total = sum(combination)\n",
    "        if total > amount:\n",
    "            # No possible answer\n",
    "            pass\n",
    "        elif total == amount:\n",
    "            # Only one possible answer\n",
    "            yield(combination)\n",
    "        else:\n",
    "            # multiple sub-combinations possible\n",
    "            tuples = []\n",
    "            for i,x in enumerate(combination):\n",
    "                b = amount / x\n",
    "                tuples.append((1,b))\n",
    "            for combo in tuple_combo(tuples):\n",
    "                total = 0\n",
    "                v = []\n",
    "                for i,x in enumerate(combo):\n",
    "                    total += combination[i] * x\n",
    "                    v += [combination[i]] * x\n",
    "                if total == amount:\n",
    "                    yield v"
   ]
  },
  {
   "cell_type": "code",
   "execution_count": null,
   "metadata": {
    "collapsed": false
   },
   "outputs": [],
   "source": [
    "for answer in calculate_change(10, [1,5]):\n",
    "    print answer"
   ]
  },
  {
   "cell_type": "code",
   "execution_count": null,
   "metadata": {
    "collapsed": true
   },
   "outputs": [],
   "source": [
    "def num_ways(amount, denominations):\n",
    "    for each denomination in denominations:\n",
    "        for each num_times_to_use_denomination in possible_num_times_to_use_denomination_without_overshooting_amount:\n",
    "            answer += num_ways(amount_remaining, other_denominations)"
   ]
  },
  {
   "cell_type": "code",
   "execution_count": null,
   "metadata": {
    "collapsed": false
   },
   "outputs": [],
   "source": [
    "def change_possibilities_bottom_up(amount, denominations):\n",
    "    ways = [0] * (amount + 1)\n",
    "    ways[0] = 1\n",
    "    \n",
    "    for coin in denominations:\n",
    "        for i in xrange(coin, amount + 1):\n",
    "            print i,coin,i-coin\n",
    "            ways[i] += ways[i - coin]\n",
    "            print ways\n",
    "            \n",
    "    return ways[amount]"
   ]
  },
  {
   "cell_type": "code",
   "execution_count": null,
   "metadata": {
    "collapsed": false
   },
   "outputs": [],
   "source": [
    "print change_possibilities_bottom_up(10, [2,5])\n",
    "    #print answer"
   ]
  },
  {
   "cell_type": "code",
   "execution_count": null,
   "metadata": {
    "collapsed": false
   },
   "outputs": [],
   "source": [
    "[0] * (3)"
   ]
  },
  {
   "cell_type": "code",
   "execution_count": null,
   "metadata": {
    "collapsed": true
   },
   "outputs": [],
   "source": []
  }
 ],
 "metadata": {
  "kernelspec": {
   "display_name": "Python 2",
   "language": "python",
   "name": "python2"
  },
  "language_info": {
   "codemirror_mode": {
    "name": "ipython",
    "version": 2
   },
   "file_extension": ".py",
   "mimetype": "text/x-python",
   "name": "python",
   "nbconvert_exporter": "python",
   "pygments_lexer": "ipython2",
   "version": "2.7.11"
  }
 },
 "nbformat": 4,
 "nbformat_minor": 0
}
