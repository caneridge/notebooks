{
 "cells": [
  {
   "cell_type": "markdown",
   "metadata": {},
   "source": [
    "```\n",
    "numbers = [4, 5, 6, 0, 1, 2]\n",
    " H  H  H  L  L  L\n",
    "\n",
    "start = numbers[0]\n",
    "size = len(numbers)\n",
    "\n",
    "goal: smallest number lower than START\n",
    "\n",
    "goal < start\n",
    "i: first candidate element\n",
    "j: last candidate element\n",
    "\n",
    "``` "
   ]
  },
  {
   "cell_type": "code",
   "execution_count": null,
   "metadata": {
    "collapsed": true
   },
   "outputs": [],
   "source": [
    "def bisect(array, i, j):\n",
    "    delta = (j+1-i) / 2\n",
    "    c = i + delta\n",
    "    return c, array[c], delta"
   ]
  },
  {
   "cell_type": "code",
   "execution_count": null,
   "metadata": {
    "collapsed": false
   },
   "outputs": [],
   "source": [
    "numbers = [1,2,3]\n",
    "start = numbers[0]\n",
    "\n",
    "# Candidate indexes i <= j\n",
    "i, j = 1,len(numbers)-1\n",
    "f,found = None,None\n",
    "\n",
    "while i <= j:\n",
    "    c, value, delta = bisect(numbers, i, j)\n",
    "    \n",
    "    if numbers[c] < start:\n",
    "        f,found = c,value\n",
    "        j -= max(delta,1)\n",
    "    else:\n",
    "        # discard left, look right\n",
    "        i += max(delta,1)\n",
    "    trips += 1\n",
    "\n",
    "if f is None:\n",
    "    f = 0\n",
    "\n",
    "print f"
   ]
  },
  {
   "cell_type": "code",
   "execution_count": null,
   "metadata": {
    "collapsed": false
   },
   "outputs": [],
   "source": [
    "candidates"
   ]
  },
  {
   "cell_type": "code",
   "execution_count": null,
   "metadata": {
    "collapsed": false
   },
   "outputs": [],
   "source": [
    "bisect([1,2],1,1)"
   ]
  },
  {
   "cell_type": "code",
   "execution_count": null,
   "metadata": {
    "collapsed": true
   },
   "outputs": [],
   "source": [
    "def find_rotation_point(words):\n",
    "\n",
    "    start = words[0]\n",
    "\n",
    "    i = 0\n",
    "    j = len(words) - 1\n",
    "\n",
    "    while i < j:\n",
    "        # guess a point halfway between floor and ceiling\n",
    "        c = i + ((j - i) / 2)\n",
    "\n",
    "        # if guess comes after first word\n",
    "        if words[c] > start:\n",
    "            # go right\n",
    "            i = c\n",
    "        else:\n",
    "            # go left\n",
    "            j = c\n",
    "\n",
    "        # if floor and ceiling have converged\n",
    "        if i + 1 == j:\n",
    "\n",
    "            # between floor and ceiling is where we flipped to the beginning\n",
    "            # so ceiling is alphabetically first\n",
    "            return j"
   ]
  },
  {
   "cell_type": "code",
   "execution_count": null,
   "metadata": {
    "collapsed": false
   },
   "outputs": [],
   "source": [
    "print find_rotation_point([4,5,0,1])"
   ]
  },
  {
   "cell_type": "code",
   "execution_count": null,
   "metadata": {
    "collapsed": true
   },
   "outputs": [],
   "source": []
  }
 ],
 "metadata": {
  "kernelspec": {
   "display_name": "Python 2",
   "language": "python",
   "name": "python2"
  },
  "language_info": {
   "codemirror_mode": {
    "name": "ipython",
    "version": 2
   },
   "file_extension": ".py",
   "mimetype": "text/x-python",
   "name": "python",
   "nbconvert_exporter": "python",
   "pygments_lexer": "ipython2",
   "version": "2.7.11"
  }
 },
 "nbformat": 4,
 "nbformat_minor": 0
}
