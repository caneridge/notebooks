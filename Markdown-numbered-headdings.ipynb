{
 "cells": [
  {
   "cell_type": "markdown",
   "metadata": {},
   "source": [
    "Read a markdown file and number the headdings. Assumes that all headdings are marked as lines beginning with one or more # characters per markdown syntax."
   ]
  },
  {
   "cell_type": "code",
   "execution_count": null,
   "metadata": {
    "collapsed": false
   },
   "outputs": [],
   "source": [
    "import argparse\n",
    "import re\n",
    "import sys\n",
    "\n",
    "class NumberedHeadding:\n",
    "    \n",
    "    MAX_LEVELS = 3\n",
    "    \n",
    "    def __init__(self):\n",
    "        self.numbered = [None] * NumberedHeadding.MAX_LEVELS\n",
    "        self.level = 0\n",
    "        self.numbered[self.level] = 0\n",
    "\n",
    "    def more_levels(self):\n",
    "        return self.level + 1 < NumberedHeadding.MAX_LEVELS\n",
    "\n",
    "    def less_levels(self):\n",
    "        return 0 < self.level\n",
    "    \n",
    "    def indent(self):\n",
    "        if self.more_levels():\n",
    "            self.level += 1\n",
    "            self.numbered[self.level] = 1\n",
    "            \n",
    "    def outdent(self):\n",
    "        if self.less_levels():\n",
    "            self.numbered[self.level] = None\n",
    "            self.level -= 1\n",
    "            self.increment()\n",
    "            \n",
    "    def increment(self):\n",
    "        self.numbered[self.level] += 1\n",
    "    \n",
    "    def set_level(self, new_level):\n",
    "        if new_level == self.level:\n",
    "            self.increment()\n",
    "        else:\n",
    "            for i in xrange(self.level, new_level):\n",
    "                self.indent()\n",
    "            for i in xrange(self.level, new_level, -1):\n",
    "                self.outdent()\n",
    "            \n",
    "    def markdown_to_headding(self, markdown_string):\n",
    "        m = re.compile(\n",
    "            '^(?P<hash>#+)'      # Markdown headding number\n",
    "            '\\s*[\\d\\.]*\\s*'      # Headding number\n",
    "            '(?P<remainder>.*)'  # Headding text\n",
    "        )\n",
    "        if m.match(markdown_string):        \n",
    "            hashes = m.match(markdown_string).group('hash')\n",
    "            remainder = m.match(markdown_string).group('remainder')\n",
    "            self.set_level(len(hashes)-1)\n",
    "            return hashes + ' ' + self.headding() + ' ' + remainder\n",
    "        else:\n",
    "            return markdown_string\n",
    "            \n",
    "    def headding(self):\n",
    "        # ignore '#', used as document title\n",
    "        return '.'.join(str(x) for x in self.numbered[1:self.level+1])\n",
    "\n",
    "class ConfigureProgram:\n",
    "    def __init__(self):\n",
    "        parser = argparse.ArgumentParser(description=\"Create numbered headdings in md files\")\n",
    "    \n",
    "        # --argument value\n",
    "        # value stored in args.argument\n",
    "        parser.add_argument(\"--in\", dest='file_in', action=\"store\", help=\"Markdown file to process\")\n",
    "        parser.add_argument(\"--out\", dest='file_out', action=\"store\", help=\"Output file to write\")\n",
    "\n",
    "        # results of parsing arguments\n",
    "        self.args = parser.parse_args()\n",
    "        "
   ]
  },
  {
   "cell_type": "code",
   "execution_count": null,
   "metadata": {
    "collapsed": true
   },
   "outputs": [],
   "source": [
    "# simulate the command line\n",
    "\n",
    "markdown_file = 'input.md'\n",
    "output_file = 'output.md'\n",
    "\n",
    "sys.argv = ['PROGRAM', '--in', markdown_file, '--out', output_file]"
   ]
  },
  {
   "cell_type": "code",
   "execution_count": null,
   "metadata": {
    "collapsed": false
   },
   "outputs": [],
   "source": [
    "if __name__ == \"__main__\":\n",
    "    config = ConfigureProgram()\n",
    "    \n",
    "    headdings = NumberedHeadding()\n",
    "\n",
    "    fh = open(config.args.file_in, 'r')\n",
    "    output = open(config.args.file_out, 'w')\n",
    "\n",
    "    for line in fh:\n",
    "        output.write(h.markdown_to_headding(line))\n",
    "        \n",
    "    output.close()"
   ]
  },
  {
   "cell_type": "code",
   "execution_count": null,
   "metadata": {
    "collapsed": true
   },
   "outputs": [],
   "source": []
  }
 ],
 "metadata": {
  "kernelspec": {
   "display_name": "Python 2",
   "language": "python",
   "name": "python2"
  },
  "language_info": {
   "codemirror_mode": {
    "name": "ipython",
    "version": 2
   },
   "file_extension": ".py",
   "mimetype": "text/x-python",
   "name": "python",
   "nbconvert_exporter": "python",
   "pygments_lexer": "ipython2",
   "version": "2.7.11"
  }
 },
 "nbformat": 4,
 "nbformat_minor": 0
}
