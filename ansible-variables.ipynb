{
 "cells": [
  {
   "cell_type": "markdown",
   "metadata": {},
   "source": [
    "Read the ansible all.yml file across multiple environments."
   ]
  },
  {
   "cell_type": "code",
   "execution_count": null,
   "metadata": {
    "collapsed": true
   },
   "outputs": [],
   "source": [
    "%reset -f"
   ]
  },
  {
   "cell_type": "code",
   "execution_count": null,
   "metadata": {
    "collapsed": false
   },
   "outputs": [],
   "source": [
    "import argparse\n",
    "import sys\n",
    "import yaml\n",
    "import re\n",
    "import os\n",
    "import sqlite3\n",
    "\n",
    "class PathToVarFile:\n",
    "    '''\n",
    "    Return the path to the ansible all.yml file.\n",
    "    '''\n",
    "    def __init__(self, ts='.', prod='../ansible'):\n",
    "        self.tsansible = ts\n",
    "        self.prodansible = prod\n",
    "        \n",
    "    def path(self, env_name):\n",
    "        if env_name in ['env1', 'env2']:\n",
    "            return os.path.join(self.prodansible, 'environment', env_name, 'group_vars', 'all.yml')\n",
    "        else:\n",
    "            return os.path.join(self.tsansible, 'environment', env_name, 'group_vars', 'all.yml')\n",
    "\n",
    "class ListValues:\n",
    "    def __init__(self):\n",
    "        self.filter = None\n",
    "        self.prodansible_root = '../ansible/'\n",
    "        self.tsansible_root = './'\n",
    "        self.env = list()\n",
    "    \n",
    "    def setup(self):\n",
    "        parser = argparse.ArgumentParser(description=\"List ansible variable values\")\n",
    "\n",
    "        # Only one argument in this group can be used\n",
    "        # group = parser.add_mutually_exclusive_group()\n",
    "\n",
    "        parser.add_argument(\n",
    "            \"-v\", \n",
    "            \"--verbose\",\n",
    "            action=\"store_true\",\n",
    "            help=\"Boolean flag\"\n",
    "            )\n",
    "\n",
    "        # --argument value\n",
    "        # value stored in args.argument\n",
    "        parser.add_argument(\"--filter\", dest='filter', action=\"store\", help=\"Report keys matching regular expression\")\n",
    "        parser.add_argument(\"--env\", '-e', dest='env', action=\"append\", help=\"Environments to report. Repeat option for each env.\")\n",
    "        parser.add_argument(\"--prodansible\", dest='prodansible', default=self.prodansible_root, action=\"store\", help=\"Path to prodansible directory\")\n",
    "        parser.add_argument(\"--tsansible\", dest='tsansible', default=self.tsansible_root, action=\"store\", help=\"Path to tsansible directory\")\n",
    "        # results of parsing arguments\n",
    "        args = parser.parse_args()\n",
    "\n",
    "        self.filter = args.filter\n",
    "        self.tsansible_root = args.tsansible\n",
    "        self.prodansible_root = args.prodansible\n",
    "        self.env = args.env\n",
    "        if not self.env:\n",
    "            self.env = ['env0', 'env1', 'env2']\n",
    "            \n",
    "    def show_args(self):\n",
    "        print(\"--filter {}\".format(self.filter))\n",
    "        for entry in self.env:\n",
    "            print(\"--env {}\".format(entry))\n",
    "            \n",
    "    def walk_struct(self, struct, keys=[]):\n",
    "        '''\n",
    "        Generate SQL entries from YAML -> JSON struct\n",
    "\n",
    "        Args:\n",
    "            struct (json converted to python): Dict of dicts with possible lists. Created by converted YAML to JSON/Python.\n",
    "\n",
    "            keys (list): List of dict key names. \n",
    "                keys[0]: first level dict \n",
    "                keys[1]: second level dict\n",
    "                etc\n",
    "\n",
    "        Yield:\n",
    "            [long_key, value] \n",
    "            Where long_key is the '.' joined dict of dict name of each key in struct.\n",
    "        '''\n",
    "\n",
    "        if isinstance(struct, dict):\n",
    "            for k in sorted(struct):\n",
    "                v = struct[k]\n",
    "                if isinstance(v, dict):\n",
    "                    # new dict, descend\n",
    "                    for result in self.walk_struct(v, keys=keys[:] + [str(k)]):\n",
    "                        yield(result)\n",
    "                elif isinstance(v, list):\n",
    "                    # new list, ignore\n",
    "                    pass\n",
    "                else:\n",
    "                    # yield [key.name1.name2, value]\n",
    "                    yield(['.'.join(keys + [str(k)]), str(v)])\n",
    "\n",
    "        else:\n",
    "            # don't know how to do this\n",
    "            pass\n",
    "\n",
    "    def walk_values(self, fn, environment='', filter_re='^.*$'):\n",
    "        '''\n",
    "        Generate an entry suitable for inserting into the SQL key_value table.\n",
    "\n",
    "        Args:\n",
    "            fn (string): Ansible YAML values file filename\n",
    "            environment (string): Human string naming environment\n",
    "            filter_re (string): Python regular expression of items to keep. Non-matches are discarded. \n",
    "\n",
    "        Yields:\n",
    "            [environment, key, value]\n",
    "                environment (string): ENV1, ENV2 etc.\n",
    "                key (strig): '.' joined dict of dict... string\n",
    "                value: Ansible value of that key\n",
    "        '''\n",
    "\n",
    "        regex = re.compile(filter_re)\n",
    "\n",
    "        fh  = open(fn, mode=\"r\")\n",
    "        docs = yaml.load_all(fh)\n",
    "        env_vars = docs.next()\n",
    "\n",
    "        for entry in self.walk_struct(env_vars):\n",
    "            if regex.match(entry[0]):\n",
    "                yield( [environment] + entry )\n",
    "\n",
    "    def show_env(self, fn, name=''):\n",
    "        fh  = open(fn, mode=\"r\")\n",
    "        docs = yaml.load_all(fh)\n",
    "        env_vars = docs.next()\n",
    "\n",
    "        for entry in walk_struct(env_vars):\n",
    "            print ': '.join(entry)\n",
    "\n",
    "    def envs(self):\n",
    "        for i,e in enumerate(self.env):\n",
    "            yield(e,i)\n",
    "                    \n",
    "    def generate_report(self):\n",
    "        connection = sqlite3.connect(':memory:')\n",
    "        cursor = connection.cursor()\n",
    "        \n",
    "        # Environments table\n",
    "        connection.execute('''\n",
    "            CREATE TABLE env \n",
    "                (\n",
    "                env_id TEXT NOT NULL,\n",
    "                rank   INT,\n",
    "                PRIMARY KEY(env_id)\n",
    "                );\n",
    "            ''')\n",
    "\n",
    "        # values table\n",
    "        connection.execute('''\n",
    "            CREATE TABLE key_value\n",
    "                (\n",
    "                env_id TEXT NOT NULL,\n",
    "                name   TEXT NOT NULL,\n",
    "                value  TEXT,\n",
    "                PRIMARY KEY(env_id, name)\n",
    "                );\n",
    "            ''')\n",
    "\n",
    "        cursor.executemany(\"insert into env values (?,?)\", self.envs())\n",
    "\n",
    "        # Load each variable file into the key_value table\n",
    "        p = PathToVarFile(ts=self.tsansible_root, prod=self.prodansible_root)\n",
    "        \n",
    "        for env in self.env:\n",
    "            cursor.executemany(\"insert into key_value values (?,?,?)\", \n",
    "               self.walk_values(fn=p.path(env), environment=env, filter_re=self.filter))\n",
    "            \n",
    "        connection.commit()\n",
    "        \n",
    "        cursor.execute(\"select env_id, rank from env\")\n",
    "        # print cursor.fetchall()        \n",
    "\n",
    "        # Create a unique list of keys across all environments\n",
    "\n",
    "        # ENV | KEY\n",
    "        connection.execute('''\n",
    "            CREATE TABLE env_keys\n",
    "             AS SELECT e.env_id, e.rank, k.name \n",
    "                FROM env e\n",
    "                JOIN (SELECT distinct name from key_value) AS k;\n",
    "            ''')\n",
    "        \n",
    "        cursor.execute('''\n",
    "            SELECT k.name, k.env_id, v.value\n",
    "            FROM env_keys k\n",
    "            LEFT OUTER JOIN key_value v\n",
    "            USING (env_id, name) \n",
    "            ORDER BY k.name, k.rank;\n",
    "            ''')\n",
    "        \n",
    "        last_key = None\n",
    "        for key, env, value in cursor.fetchall():\n",
    "            if not key == last_key:\n",
    "                print(key)\n",
    "                last_key = key\n",
    "            print(\"  {}: '{}'\".format(env,value))\n",
    "            \n",
    "        connection.close()"
   ]
  },
  {
   "cell_type": "code",
   "execution_count": null,
   "metadata": {
    "collapsed": false
   },
   "outputs": [],
   "source": [
    "if __name__ == '__main__':\n",
    "    app = ListValues()\n",
    "    sys.argv = ['', \n",
    "        '--filter', '^ecommerce\\..*', \n",
    "        '--env', 'env1',\n",
    "        '--env', 'env2',\n",
    "       ]\n",
    "\n",
    "    app.setup()\n",
    "    app.show_args()\n",
    "    app.generate_report()"
   ]
  },
  {
   "cell_type": "markdown",
   "metadata": {},
   "source": [
    "Code pieces"
   ]
  },
  {
   "cell_type": "code",
   "execution_count": null,
   "metadata": {
    "collapsed": false
   },
   "outputs": [],
   "source": [
    "p = PathToVarFile(ts='/Users/brian.jones/Desktop/CODE/git/tsansible', prod='/Users/brian.jones/Desktop/CODE/git/ansible')\n",
    "print p.path('ite')\n",
    "print p.path('ord')"
   ]
  },
  {
   "cell_type": "code",
   "execution_count": null,
   "metadata": {
    "collapsed": true
   },
   "outputs": [],
   "source": [
    "\n",
    "env1 = '/Users/brian.jones/Desktop/CODE/git/ansible/environment/env1/group_vars/all.yml'\n",
    "env2 = '/Users/brian.jones/Desktop/CODE/git/ansible/environment/env2/group_vars/all.yml'\n",
    "\n",
    "# limit output to\n",
    "report_filter = '^ecommerce\\..*'"
   ]
  },
  {
   "cell_type": "code",
   "execution_count": null,
   "metadata": {
    "collapsed": false,
    "scrolled": true
   },
   "outputs": [],
   "source": [
    "def walk_struct(struct, keys=[]):\n",
    "    '''\n",
    "    Generate SQL entries from YAML -> JSON struct\n",
    "    \n",
    "    Args:\n",
    "        struct (json converted to python): Dict of dicts with possible lists. Created by converted YAML to JSON/Python.\n",
    "        \n",
    "        keys (list): List of dict key names. \n",
    "            keys[0]: first level dict \n",
    "            keys[1]: second level dict\n",
    "            etc\n",
    "    \n",
    "    Yield:\n",
    "        [long_key, value] \n",
    "        Where long_key is the '.' joined dict of dict name of each key in struct.\n",
    "    '''\n",
    "    \n",
    "    if isinstance(struct, dict):\n",
    "        for k in sorted(struct):\n",
    "            v = struct[k]\n",
    "            if isinstance(v, dict):\n",
    "                # new dict, descend\n",
    "                for result in walk_struct(v, keys=keys[:] + [str(k)]):\n",
    "                    yield(result)\n",
    "            elif isinstance(v, list):\n",
    "                # new list, ignore\n",
    "                pass\n",
    "            else:\n",
    "                # yield [key.name1.name2, value]\n",
    "                yield(['.'.join(keys + [str(k)]), str(v)])\n",
    "                \n",
    "    else:\n",
    "        # don't know how to do this\n",
    "        pass\n",
    "\n",
    "def walk_values(fn, environment='', filter_re='^.*$'):\n",
    "    '''\n",
    "    Generate an entry suitable for inserting into the SQL key_value table.\n",
    "    \n",
    "    Args:\n",
    "        fn (string): Ansible YAML values file filename\n",
    "        environment (string): Human string naming environment\n",
    "        filter_re (string): Python regular expression of items to keep. Non-matches are discarded. \n",
    "        \n",
    "    Yields:\n",
    "        [environment, key, value]\n",
    "            environment (string): ENV1, ENV2 etc.\n",
    "            key (strig): '.' joined dict of dict... string\n",
    "            value: Ansible value of that key\n",
    "    '''\n",
    "    \n",
    "    filter = re.compile(filter_re)\n",
    "    \n",
    "    fh  = open(fn, mode=\"r\")\n",
    "    docs = yaml.load_all(fh)\n",
    "    env_vars = docs.next()\n",
    "\n",
    "    for entry in walk_struct(env_vars):\n",
    "        if filter.match(entry[0]):\n",
    "            yield( [environment] + entry )\n",
    "\n",
    "def show_env(fn, name=''):\n",
    "    fh  = open(fn, mode=\"r\")\n",
    "    docs = yaml.load_all(fh)\n",
    "    env_vars = docs.next()\n",
    "\n",
    "    for entry in walk_struct(env_vars):\n",
    "        print ': '.join(entry)"
   ]
  },
  {
   "cell_type": "markdown",
   "metadata": {},
   "source": [
    "# Sqlite3"
   ]
  },
  {
   "cell_type": "code",
   "execution_count": null,
   "metadata": {
    "collapsed": true
   },
   "outputs": [],
   "source": [
    "import sqlite3"
   ]
  },
  {
   "cell_type": "code",
   "execution_count": null,
   "metadata": {
    "collapsed": false
   },
   "outputs": [],
   "source": [
    "connection = sqlite3.connect(':memory:')\n",
    "cursor = connection.cursor()"
   ]
  },
  {
   "cell_type": "code",
   "execution_count": null,
   "metadata": {
    "collapsed": false
   },
   "outputs": [],
   "source": [
    "# Environments table\n",
    "\n",
    "connection.execute('''\n",
    "CREATE TABLE env \n",
    "    (\n",
    "    env_id TEXT NOT NULL,\n",
    "    rank   INT,\n",
    "    PRIMARY KEY(env_id)\n",
    "    );\n",
    "''')\n",
    "\n",
    "# values table\n",
    "\n",
    "connection.execute('''\n",
    "CREATE TABLE key_value\n",
    "    (\n",
    "    env_id TEXT NOT NULL,\n",
    "    name   TEXT NOT NULL,\n",
    "    value  TEXT,\n",
    "    PRIMARY KEY(env_id, name)\n",
    "    );\n",
    "''')"
   ]
  },
  {
   "cell_type": "code",
   "execution_count": null,
   "metadata": {
    "collapsed": false
   },
   "outputs": [],
   "source": [
    "cursor.executemany(\"insert into env values (?,?)\", envs())"
   ]
  },
  {
   "cell_type": "code",
   "execution_count": null,
   "metadata": {
    "collapsed": false,
    "scrolled": true
   },
   "outputs": [],
   "source": [
    "# Insert rows\n",
    "cursor.executemany(\"insert into key_value values (?,?,?)\", walk_values(fn=env1, environment='ENV1', filter_re=report_filter))\n",
    "cursor.executemany(\"insert into key_value values (?,?,?)\", walk_values(fn=env2, environment='ENV2', filter_re=report_filter))\n",
    "\n",
    "connection.commit()"
   ]
  },
  {
   "cell_type": "code",
   "execution_count": null,
   "metadata": {
    "collapsed": false
   },
   "outputs": [],
   "source": [
    "cursor.execute(\"select env_id, rank from env\")\n",
    "print cursor.fetchall()"
   ]
  },
  {
   "cell_type": "code",
   "execution_count": null,
   "metadata": {
    "collapsed": false
   },
   "outputs": [],
   "source": [
    "# Create a unique list of keys across all environments\n",
    "\n",
    "# ENV | KEY\n",
    "\n",
    "connection.execute('''\n",
    "CREATE TABLE env_keys\n",
    " AS SELECT e.env_id, e.rank, k.name \n",
    "    FROM env e\n",
    "    JOIN (SELECT distinct name from key_value) AS k;\n",
    "''')"
   ]
  },
  {
   "cell_type": "code",
   "execution_count": null,
   "metadata": {
    "collapsed": false
   },
   "outputs": [],
   "source": [
    "cursor.execute('''\n",
    "SELECT k.name, k.env_id, v.value\n",
    "FROM env_keys k\n",
    "LEFT OUTER JOIN key_value v\n",
    "USING (env_id, name) \n",
    "ORDER BY k.name, k.rank;\n",
    "''')"
   ]
  },
  {
   "cell_type": "code",
   "execution_count": null,
   "metadata": {
    "collapsed": false,
    "scrolled": true
   },
   "outputs": [],
   "source": [
    "last_key = None\n",
    "for key, env, value in cursor.fetchall():\n",
    "    if not key == last_key:\n",
    "        print(key)\n",
    "        last_key = key\n",
    "    print(\"  {}: '{}'\".format(env,value))"
   ]
  },
  {
   "cell_type": "code",
   "execution_count": null,
   "metadata": {
    "collapsed": false
   },
   "outputs": [],
   "source": [
    "connection.close()"
   ]
  },
  {
   "cell_type": "markdown",
   "metadata": {
    "collapsed": true
   },
   "source": [
    "Legacy code"
   ]
  },
  {
   "cell_type": "code",
   "execution_count": null,
   "metadata": {
    "collapsed": false
   },
   "outputs": [],
   "source": [
    "def show_values(fn, env_name):\n",
    "    fh  = open(fn, mode=\"r\")\n",
    "    docs = yaml.load_all(fh)\n",
    "    \n",
    "    doc = docs.next()\n",
    "    print\n",
    "    print(\"{}:\".format(env_name))\n",
    "    print\n",
    "    print('jvm Xms       : {}'.format(doc['ecommerce']['jvm']['Xms']))\n",
    "    print('jvm Xmx       : {}'.format(doc['ecommerce']['jvm']['Xmx']))\n",
    "    print('ro initialsize: {}'.format(doc['ecommerce']['db']['ro']['initialsize']))\n",
    "    print('   maxidle    : {}'.format(doc['ecommerce']['db']['ro']['maxidle']))\n",
    "    print('   minidle    : {}'.format(doc['ecommerce']['db']['ro']['minidle']))\n",
    "    print('   maxtotal   : {}'.format(doc['ecommerce']['db']['ro']['maxtotal']))\n",
    "    print('rw initialsize: {}'.format(doc['ecommerce']['db']['rw']['initialsize']))\n",
    "    print('   maxidle    : {}'.format(doc['ecommerce']['db']['rw']['maxidle']))\n",
    "    print('   minidle    : {}'.format(doc['ecommerce']['db']['rw']['minidle']))\n",
    "    print('   maxtotal   : {}'.format(doc['ecommerce']['db']['rw']['maxtotal']))\n",
    "    print('threads       : {}'.format(doc['ecommerce']['executorservice']['threads']))\n",
    "    print('max threads   : {}'.format(doc['ecommerce']['executorservice']['maxthreads']))\n",
    "    fh.close()\n"
   ]
  }
 ],
 "metadata": {
  "kernelspec": {
   "display_name": "Python 2",
   "language": "python",
   "name": "python2"
  },
  "language_info": {
   "codemirror_mode": {
    "name": "ipython",
    "version": 2
   },
   "file_extension": ".py",
   "mimetype": "text/x-python",
   "name": "python",
   "nbconvert_exporter": "python",
   "pygments_lexer": "ipython2",
   "version": "2.7.11"
  }
 },
 "nbformat": 4,
 "nbformat_minor": 0
}
