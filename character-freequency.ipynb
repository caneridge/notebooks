{
 "cells": [
  {
   "cell_type": "markdown",
   "metadata": {},
   "source": [
    "Freequency count of characters in a string"
   ]
  },
  {
   "cell_type": "code",
   "execution_count": null,
   "metadata": {
    "collapsed": false
   },
   "outputs": [],
   "source": [
    "from collections import Counter\n",
    "\n",
    "def distribution(string):\n",
    "    s = string.lower()\n",
    "    count = Counter()\n",
    "    for ch in s:\n",
    "        count[ch] += 1\n",
    "        \n",
    "    for k in sorted(count):\n",
    "        print(\"{n} {ch}\".format(n=count[k], ch=k))\n",
    "        \n",
    "distribution(\"The quick brown fox jumps over the lazy dog\")"
   ]
  },
  {
   "cell_type": "code",
   "execution_count": null,
   "metadata": {
    "collapsed": true
   },
   "outputs": [],
   "source": []
  }
 ],
 "metadata": {
  "kernelspec": {
   "display_name": "Python 2",
   "language": "python",
   "name": "python2"
  },
  "language_info": {
   "codemirror_mode": {
    "name": "ipython",
    "version": 2
   },
   "file_extension": ".py",
   "mimetype": "text/x-python",
   "name": "python",
   "nbconvert_exporter": "python",
   "pygments_lexer": "ipython2",
   "version": "2.7.11"
  }
 },
 "nbformat": 4,
 "nbformat_minor": 0
}
