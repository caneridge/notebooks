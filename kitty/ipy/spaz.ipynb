{
 "cells": [
  {
   "cell_type": "code",
   "execution_count": 1,
   "metadata": {
    "collapsed": true
   },
   "outputs": [],
   "source": [
    "# from IPython.display import clear_output\n",
    "# IPython.__file__.replace"
   ]
  },
  {
   "cell_type": "code",
   "execution_count": 2,
   "metadata": {
    "collapsed": false
   },
   "outputs": [
    {
     "name": "stdout",
     "output_type": "stream",
     "text": [
      "C:\\Users\\brian.jones\\Desktop\\CODE\\pycharm\\spaz\n"
     ]
    }
   ],
   "source": [
    "import sys\n",
    "import os\n",
    "sys.path.append(r'./..')\n",
    "print(os.path.abspath(r'./..'))"
   ]
  },
  {
   "cell_type": "code",
   "execution_count": 3,
   "metadata": {
    "collapsed": false
   },
   "outputs": [],
   "source": [
    "from configuration import Configuration\n",
    "from render import Render\n",
    "from options import Options"
   ]
  },
  {
   "cell_type": "code",
   "execution_count": 4,
   "metadata": {
    "collapsed": false
   },
   "outputs": [
    {
     "name": "stdout",
     "output_type": "stream",
     "text": [
      "Overwriting spaz.conf\n"
     ]
    }
   ],
   "source": [
    "%%file spaz.conf\n",
    "---\n",
    "general:\n",
    "  # Which environment to run under\n",
    "  current-environment: ENV1\n",
    "---\n",
    "# Settings unique to environment\n",
    "environment:\n",
    "  name: ENV1\n",
    "  config-file: env1.conf\n",
    "---\n",
    "environment:\n",
    "  name: ENV2\n",
    "  config-file: env2.conf"
   ]
  },
  {
   "cell_type": "code",
   "execution_count": 6,
   "metadata": {
    "collapsed": true
   },
   "outputs": [],
   "source": [
    "config_file = r'configuration.yaml'"
   ]
  },
  {
   "cell_type": "code",
   "execution_count": 7,
   "metadata": {
    "collapsed": false
   },
   "outputs": [
    {
     "name": "stdout",
     "output_type": "stream",
     "text": [
      "Overwriting configuration.yaml\n"
     ]
    }
   ],
   "source": [
    "%%file configuration.yaml\n",
    "---\n",
    "ROLE1:\n",
    "  - file: template1.txt\n",
    "    nickname: file1\n",
    "    values:\n",
    "      read_write_db: RWDB\n",
    "      read_write_password: RWDB-PW"
   ]
  },
  {
   "cell_type": "code",
   "execution_count": 10,
   "metadata": {
    "collapsed": false
   },
   "outputs": [
    {
     "name": "stdout",
     "output_type": "stream",
     "text": [
      "---\n",
      "ROLE1:\n",
      "- file: template1.txt:\n",
      "  nickname: file1\n",
      "  values:\n",
      "    read_write_password: RWDB-PW\n",
      "    read_write_db: RWDB\n"
     ]
    }
   ],
   "source": [
    "config = Configuration.from_file(config_file)\n",
    "print(config)"
   ]
  },
  {
   "cell_type": "code",
   "execution_count": 12,
   "metadata": {
    "collapsed": false
   },
   "outputs": [
    {
     "name": "stdout",
     "output_type": "stream",
     "text": [
      "---\n",
      "ROLE1:\n",
      "- file: template1.txt:\n",
      "  nickname: file1\n",
      "  values:\n",
      "    read_write_password: RWDB-PW\n",
      "    read_write_db: RWDB\n",
      "{'read_write_password': 'RWDB-PW', 'read_write_db': 'RWDB'}\n"
     ]
    }
   ],
   "source": [
    "role = config.role('ROLE1')\n",
    "print(role)\n",
    "values = role.file_entry('template1.txt').values\n",
    "print(values)"
   ]
  },
  {
   "cell_type": "code",
   "execution_count": 13,
   "metadata": {
    "collapsed": true
   },
   "outputs": [],
   "source": [
    "string = '''\n",
    "    <local-tx-datasource>\n",
    "      <jndi-name>CONFIG_DS</jndi-name>\n",
    "      <connection-url>jdbc:mysql://${read_write_db}/config</connection-url>\n",
    "      <driver-class>com.mysql.jdbc.Driver</driver-class>\n",
    "      <user-name>config</user-name>\n",
    "      <password>${read_write_password}</password>\n",
    "      <min-pool-size>5</min-pool-size>\n",
    "      <max-pool-size>50</max-pool-size>\n",
    "      <blocking-timeout-millis>15000</blocking-timeout-millis>\n",
    "      <background-validation>true</background-validation>\n",
    "      <background-validation-millis>60000</background-validation-millis>\n",
    "      <check-valid-connection-sql>select now()</check-valid-connection-sql>\n",
    "    </local-tx-datasource>\n",
    "'''\n",
    "\n",
    "render = Render.from_template_string(string, values)"
   ]
  },
  {
   "cell_type": "code",
   "execution_count": 14,
   "metadata": {
    "collapsed": false,
    "scrolled": true
   },
   "outputs": [
    {
     "name": "stdout",
     "output_type": "stream",
     "text": [
      "\n",
      "    <local-tx-datasource>\n",
      "      <jndi-name>CONFIG_DS</jndi-name>\n",
      "      <connection-url>jdbc:mysql://RWDB/config</connection-url>\n",
      "      <driver-class>com.mysql.jdbc.Driver</driver-class>\n",
      "      <user-name>config</user-name>\n",
      "      <password>RWDB-PW</password>\n",
      "      <min-pool-size>5</min-pool-size>\n",
      "      <max-pool-size>50</max-pool-size>\n",
      "      <blocking-timeout-millis>15000</blocking-timeout-millis>\n",
      "      <background-validation>true</background-validation>\n",
      "      <background-validation-millis>60000</background-validation-millis>\n",
      "      <check-valid-connection-sql>select now()</check-valid-connection-sql>\n",
      "    </local-tx-datasource>\n",
      "\n"
     ]
    }
   ],
   "source": [
    "print(render.rendered_text)"
   ]
  },
  {
   "cell_type": "code",
   "execution_count": 20,
   "metadata": {
    "collapsed": false
   },
   "outputs": [],
   "source": [
    "import re"
   ]
  },
  {
   "cell_type": "code",
   "execution_count": 41,
   "metadata": {
    "collapsed": false
   },
   "outputs": [],
   "source": [
    "s = 'this phrase'\n",
    "r = re.compile(\".*{s}.*\".format(s=s))"
   ]
  },
  {
   "cell_type": "code",
   "execution_count": 42,
   "metadata": {
    "collapsed": false
   },
   "outputs": [
    {
     "name": "stdout",
     "output_type": "stream",
     "text": [
      "1\n",
      "2\n"
     ]
    }
   ],
   "source": [
    "if r.match(\"this line this phrase is ok\"):\n",
    "    print(1)\n",
    "print(2)"
   ]
  },
  {
   "cell_type": "code",
   "execution_count": null,
   "metadata": {
    "collapsed": true
   },
   "outputs": [],
   "source": []
  }
 ],
 "metadata": {
  "kernelspec": {
   "display_name": "Python 2",
   "language": "python",
   "name": "python2"
  },
  "language_info": {
   "codemirror_mode": {
    "name": "ipython",
    "version": 2
   },
   "file_extension": ".py",
   "mimetype": "text/x-python",
   "name": "python",
   "nbconvert_exporter": "python",
   "pygments_lexer": "ipython2",
   "version": "2.7.10"
  }
 },
 "nbformat": 4,
 "nbformat_minor": 0
}
