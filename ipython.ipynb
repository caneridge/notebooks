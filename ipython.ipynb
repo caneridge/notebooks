{
 "cells": [
  {
   "cell_type": "markdown",
   "metadata": {},
   "source": [
    "### Jupyter notebook examples\n",
    "* Examples - http://nbviewer.jupyter.org/\n",
    "\n",
    "### Python documentation\n",
    "\n",
    "* Documentation index - https://docs.python.org/2/\n",
    "* Standard Library - https://docs.python.org/2/library/index.html\n",
    "* Language Reference - https://docs.python.org/2/reference/index.html"
   ]
  },
  {
   "cell_type": "markdown",
   "metadata": {},
   "source": [
    "### ipython Documentation\n",
    "\n",
    "* Tutorial http://ipython.org/ipython-doc/dev/interactive/tutorial.html\n",
    "* User Interface http://ipython.org/ipython-doc/dev/notebook/notebook.html#notebook-user-interface\n",
    "* Markdown syntax http://daringfireball.net/projects/markdown/syntax\n",
    "* Keyboard shortcuts http://damontallen.github.io/IPython-quick-ref-sheets/\n",
    "  \n",
    "### Keyboard shortcuts\n",
    "\n",
    "    ctrl-m h    - show keyboard shortcuts\n",
    "    \n",
    "    shift-enter - run cell\n",
    "    ctrl-enter  - run in place, keep editing same cell\n",
    "    alt-enter   - run, insert cell below\n",
    "    enter       - edit\n",
    "    esc         - edit"
   ]
  },
  {
   "cell_type": "code",
   "execution_count": null,
   "metadata": {
    "collapsed": false
   },
   "outputs": [],
   "source": [
    "# Introduction to ipython\n",
    "?"
   ]
  },
  {
   "cell_type": "code",
   "execution_count": null,
   "metadata": {
    "collapsed": false
   },
   "outputs": [],
   "source": [
    "# Quick reference\n",
    "%quickref"
   ]
  },
  {
   "cell_type": "code",
   "execution_count": null,
   "metadata": {
    "collapsed": false
   },
   "outputs": [],
   "source": [
    "!pydoc -p 8081"
   ]
  },
  {
   "cell_type": "code",
   "execution_count": null,
   "metadata": {
    "collapsed": false
   },
   "outputs": [],
   "source": [
    "%lsmagic"
   ]
  },
  {
   "cell_type": "code",
   "execution_count": null,
   "metadata": {
    "collapsed": false
   },
   "outputs": [],
   "source": [
    "import fileinput\n",
    "# Show doc on object\n",
    "?fileinput"
   ]
  },
  {
   "cell_type": "code",
   "execution_count": null,
   "metadata": {
    "collapsed": true
   },
   "outputs": [],
   "source": [
    "# Show detailed information\n",
    "fileinput.input??"
   ]
  }
 ],
 "metadata": {
  "kernelspec": {
   "display_name": "Python 2",
   "language": "python",
   "name": "python2"
  },
  "language_info": {
   "codemirror_mode": {
    "name": "ipython",
    "version": 2
   },
   "file_extension": ".py",
   "mimetype": "text/x-python",
   "name": "python",
   "nbconvert_exporter": "python",
   "pygments_lexer": "ipython2",
   "version": "2.7.11"
  }
 },
 "nbformat": 4,
 "nbformat_minor": 0
}
