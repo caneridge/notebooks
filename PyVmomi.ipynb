{
 "cells": [
  {
   "cell_type": "markdown",
   "metadata": {},
   "source": [
    "###Python setup\n",
    "\n",
    "1. Install anaconda for Python 2.7\n",
    "\n",
    ">  http://continuum.io/downloads\n",
    "\n",
    "2. Create environment\n",
    "\n",
    "> conda create --name py27 python=2.7 anaconda   \n",
    "\n",
    "3. Source the environment\n",
    "   \n",
    "> source activate py27\n",
    "   \n",
    "4. Install pyvmomi\n",
    "\n",
    "> pip install pyvmomi\n",
    "    \n",
    "5. Start python notebook in env\n",
    "\n",
    ">  ipython notebook\n",
    "\n",
    "* Object model:\n",
    "  * https://cdwinvctr01.cdi.com/mob\n",
    "* Markdown quick ref\n",
    "  * https://github.com/adam-p/markdown-here/wiki/Markdown-Cheatsheet\n",
    "  \n",
    "###Samples\n",
    "* https://github.com/vmware/pyvmomi-community-samples\n",
    "\n",
    "###VCenter objects\n",
    "* `si`\n",
    "  - A service instance object. The top level object of the vmware world.\n",
    "    https://github.com/vmware/pyvmomi/blob/master/docs/vim/ServiceInstance.rst \n",
    "* `content`\n",
    "  - service instance content - Access the acutal VM information tree\n",
    "    https://github.com/vmware/pyvmomi/blob/master/docs/vim/ServiceInstanceContent.rst\n",
    "* `content.rootFolder`\n",
    "  - Top level inventory is just a folder object  \n",
    "    https://github.com/vmware/pyvmomi/blob/master/docs/vim/Folder.rst\n",
    "* `dc`\n",
    "  - Datacenter object  \n",
    "    https://github.com/vmware/pyvmomi/blob/master/docs/vim/Datacenter.rst\n",
    "* VM\n",
    "  - https://github.com/vmware/pyvmomi/blob/master/docs/vim/VirtualMachine.rst"
   ]
  },
  {
   "cell_type": "code",
   "execution_count": null,
   "metadata": {
    "collapsed": false
   },
   "outputs": [],
   "source": [
    "import sys\n",
    "import ssl\n",
    "for p in sys.path:\n",
    "    print p"
   ]
  },
  {
   "cell_type": "code",
   "execution_count": null,
   "metadata": {
    "collapsed": false
   },
   "outputs": [],
   "source": [
    "from pyVim import connect\n",
    "from pyVmomi import vmodl\n",
    "from pyVmomi import vim"
   ]
  },
  {
   "cell_type": "code",
   "execution_count": null,
   "metadata": {
    "collapsed": true
   },
   "outputs": [],
   "source": [
    "from requests.packages.urllib3 import disable_warnings\n",
    "disable_warnings()"
   ]
  },
  {
   "cell_type": "code",
   "execution_count": null,
   "metadata": {
    "collapsed": false
   },
   "outputs": [],
   "source": [
    "uid = r''\n",
    "pw = r''\n",
    "host = r''"
   ]
  },
  {
   "cell_type": "code",
   "execution_count": null,
   "metadata": {
    "collapsed": false
   },
   "outputs": [],
   "source": [
    "default_context = ssl._create_default_https_context\n",
    "ssl._create_default_https_context = ssl._create_unverified_context\n",
    "si = connect.SmartConnect(\n",
    "  host=host,\n",
    "  user=uid,\n",
    "  pwd=pw\n",
    ")\n",
    "ssl._create_default_https_context = default_context"
   ]
  },
  {
   "cell_type": "code",
   "execution_count": null,
   "metadata": {
    "collapsed": false
   },
   "outputs": [],
   "source": [
    "def display_snapshot_tree(trees, depth=1):\n",
    "    for tree in trees:\n",
    "        # tree: pyVmomi.VmomiSupport.vim.vm.SnapshotTree \n",
    "        # tree.snapshot is snapshot object\n",
    "        ## https://github.com/vmware/pyvmomi/blob/master/docs/vim/vm/Snapshot.rst\n",
    "        ## tree.snapshot.RevertToSnapshot() revert vm to snapshot\n",
    "        \n",
    "        print(\"  ID:{}\".format(tree.id))\n",
    "        print(\"    depth  : {}\".format(depth))\n",
    "        print(\"    Created: {}\".format(tree.createTime))\n",
    "        print(\"    name   : {}\".format(tree.name))\n",
    "        print(\"    state  : {}\".format(tree.state))\n",
    "\n",
    "        if tree.childSnapshotList:\n",
    "            display_snapshot_tree(tree.childSnapshotList, depth+1)\n",
    "\n",
    "def display_vm(vm):\n",
    "    if not isinstance(vm, vim.VirtualMachine):\n",
    "        print(\"Don't know how to display object\")\n",
    "        print(type(vm))\n",
    "        return\n",
    "    \n",
    "    print(\"Config\")\n",
    "    print(\"  hostname: {}\".format(vm.guest.hostName))\n",
    "    print(\"  UUID: {}\".format(vm.config.instanceUuid))\n",
    "    print(\"  changeVersion: {}\".format(vm.config.changeVersion))\n",
    "    print(\"  modified: {}\".format(vm.config.modified))\n",
    "    print(\"  guestId: {}\".format(vm.config.guestId))\n",
    "    print(\"Config.Hardware\")\n",
    "    print(\"  CPUs: {}\".format(vm.config.hardware.numCPU))\n",
    "    print(\"  memoryMB: {}\".format(vm.config.hardware.memoryMB))\n",
    "    print(\"Config.Files\")\n",
    "    print(\"  vmPathName: {}\".format(vm.config.files.vmPathName))\n",
    "    print(\"  snapshotDirectory: {}\".format(vm.config.files.snapshotDirectory))\n",
    "    print(\"  logDirectory: {}\".format(vm.config.files.logDirectory))\n",
    "    print(\"Snapshots\")\n",
    "    if vm.snapshot:\n",
    "        print(\"  current: {}\".format(vm.snapshot.currentSnapshot.config.changeVersion))\n",
    "        tree = vm.snapshot.rootSnapshotList\n",
    "        display_snapshot_tree(tree)\n",
    "    else:\n",
    "        print(\"  None\")\n",
    "\n"
   ]
  },
  {
   "cell_type": "markdown",
   "metadata": {},
   "source": [
    "##Find VM By host name##\n",
    "* https://github.com/vmware/pyvmomi/blob/master/docs/vim/SearchIndex.rst"
   ]
  },
  {
   "cell_type": "code",
   "execution_count": null,
   "metadata": {
    "collapsed": false
   },
   "outputs": [],
   "source": [
    "searchIndex = si.RetrieveServiceContent().searchIndex\n",
    "type(searchIndex)"
   ]
  },
  {
   "cell_type": "code",
   "execution_count": null,
   "metadata": {
    "collapsed": true
   },
   "outputs": [],
   "source": [
    "host_name = ''\n",
    "vm = searchIndex.FindByDnsName(dnsName=host_name, vmSearch=True)\n",
    "\n",
    "show_methods = False\n",
    "if show_methods:\n",
    "    for x in dir(vm):\n",
    "        print x\n",
    "\n",
    "# vm: https://github.com/vmware/pyvmomi/blob/master/docs/vim/VirtualMachine.rst\n",
    "## revertToCurrentSnapshot()"
   ]
  },
  {
   "cell_type": "code",
   "execution_count": null,
   "metadata": {
    "collapsed": false,
    "scrolled": false
   },
   "outputs": [],
   "source": [
    "display_vm(vm)"
   ]
  },
  {
   "cell_type": "markdown",
   "metadata": {},
   "source": [
    "##Cleanup"
   ]
  },
  {
   "cell_type": "code",
   "execution_count": null,
   "metadata": {
    "collapsed": true
   },
   "outputs": [],
   "source": []
  },
  {
   "cell_type": "code",
   "execution_count": null,
   "metadata": {
    "collapsed": false
   },
   "outputs": [],
   "source": [
    "# Cleanup\n",
    "connect.Disconnect(si)"
   ]
  },
  {
   "cell_type": "code",
   "execution_count": null,
   "metadata": {
    "collapsed": true
   },
   "outputs": [],
   "source": []
  }
 ],
 "metadata": {
  "kernelspec": {
   "display_name": "Python 2",
   "language": "python",
   "name": "python2"
  },
  "language_info": {
   "codemirror_mode": {
    "name": "ipython",
    "version": 2
   },
   "file_extension": ".py",
   "mimetype": "text/x-python",
   "name": "python",
   "nbconvert_exporter": "python",
   "pygments_lexer": "ipython2",
   "version": "2.7.11"
  }
 },
 "nbformat": 4,
 "nbformat_minor": 0
}
