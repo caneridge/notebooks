{
 "cells": [
  {
   "cell_type": "markdown",
   "metadata": {},
   "source": [
    "# sqlihte3\n",
    "## Documentation\n",
    "\n",
    "* https://docs.python.org/2/library/sqlite3.html\n",
    "* Data types - http://www.sqlite.org/datatype3.html"
   ]
  },
  {
   "cell_type": "code",
   "execution_count": null,
   "metadata": {
    "collapsed": false
   },
   "outputs": [],
   "source": [
    "import sqlite3"
   ]
  },
  {
   "cell_type": "code",
   "execution_count": null,
   "metadata": {
    "collapsed": false
   },
   "outputs": [],
   "source": [
    "# Module version\n",
    "sqlite3.version"
   ]
  },
  {
   "cell_type": "code",
   "execution_count": null,
   "metadata": {
    "collapsed": false
   },
   "outputs": [],
   "source": [
    "sqlite3.version_info"
   ]
  },
  {
   "cell_type": "code",
   "execution_count": null,
   "metadata": {
    "collapsed": false
   },
   "outputs": [],
   "source": [
    "# Runtime library version\n",
    "sqlite3.sqlite_version_info"
   ]
  },
  {
   "cell_type": "code",
   "execution_count": null,
   "metadata": {
    "collapsed": false
   },
   "outputs": [],
   "source": [
    "# Delete the sample db if it exists\n",
    "import os.path\n",
    "\n",
    "db_name = 'sqlite_notebook.db'\n",
    "\n",
    "if os.path.isfile(db_name):\n",
    "    print \"Removing \" + db_name\n",
    "    os.remove(db_name)\n",
    "else:\n",
    "    print \"no prior db file\""
   ]
  },
  {
   "cell_type": "code",
   "execution_count": null,
   "metadata": {
    "collapsed": false
   },
   "outputs": [],
   "source": [
    "# Open connection\n",
    "db = sqlite3.connect(db_name)"
   ]
  },
  {
   "cell_type": "code",
   "execution_count": null,
   "metadata": {
    "collapsed": false
   },
   "outputs": [],
   "source": [
    "# Create a cursor based on the connection\n",
    "cursor = db.cursor()"
   ]
  },
  {
   "cell_type": "code",
   "execution_count": null,
   "metadata": {
    "collapsed": false
   },
   "outputs": [],
   "source": [
    "# Create a table\n",
    "cursor.execute('drop table if exists list')\n",
    "cursor.execute('drop table if exists item')\n",
    "cursor.execute(\"create table list (id1 text, id2 text)\")\n",
    "cursor.execute(\"create table item (id1 text, id2 text, name text)\")"
   ]
  },
  {
   "cell_type": "code",
   "execution_count": null,
   "metadata": {
    "collapsed": false
   },
   "outputs": [],
   "source": [
    "# Insert first record\n",
    "cursor.execute(\"insert into list values ('01','a')\")\n",
    "cursor.execute(\"insert into list values ('02','a')\")\n",
    "cursor.execute(\"insert into list values ('03','a')\")\n",
    "cursor.execute(\"insert into list values ('04','a')\")\n",
    "cursor.execute(\"insert into list values ('05','a')\")\n",
    "\n",
    "cursor.execute(\"insert into item values ('01','a','one')\")\n",
    "cursor.execute(\"insert into item values ('02','a','two')\")\n",
    "cursor.execute(\"insert into item values ('05','a','five')\")\n"
   ]
  },
  {
   "cell_type": "code",
   "execution_count": null,
   "metadata": {
    "collapsed": false
   },
   "outputs": [],
   "source": [
    "# Insert record\n",
    "cursor.execute('drop table if exists report')\n",
    "cursor.execute('''\n",
    "    create temporary table\n",
    "        report\n",
    "    as select\n",
    "        list.id1,\n",
    "        item.id2,\n",
    "        item.name\n",
    "    from \n",
    "        list\n",
    "        LEFT OUTER JOIN item\n",
    "    ON\n",
    "        list.id1 = item.id1 and\n",
    "        list.id2 = item.id2\n",
    "    ''')"
   ]
  },
  {
   "cell_type": "code",
   "execution_count": null,
   "metadata": {
    "collapsed": false
   },
   "outputs": [],
   "source": [
    "for row in cursor.execute(\"\"\"\n",
    "    select\n",
    "        id1,\n",
    "        id2\n",
    "    from\n",
    "        report\n",
    "    where\n",
    "        name is null\n",
    "    \"\"\"): print row"
   ]
  },
  {
   "cell_type": "code",
   "execution_count": null,
   "metadata": {
    "collapsed": false
   },
   "outputs": [],
   "source": [
    "for row in cursor.execute('select * from report'): print row"
   ]
  },
  {
   "cell_type": "code",
   "execution_count": null,
   "metadata": {
    "collapsed": false
   },
   "outputs": [],
   "source": [
    "for row in cursor.execute('''\n",
    "    select * \n",
    "    from item,list'''):\n",
    "    print row"
   ]
  },
  {
   "cell_type": "code",
   "execution_count": null,
   "metadata": {
    "collapsed": false
   },
   "outputs": [],
   "source": [
    "# Get married -- write everything out for others to see\n",
    "db.commit()"
   ]
  },
  {
   "cell_type": "code",
   "execution_count": null,
   "metadata": {
    "collapsed": false
   },
   "outputs": [],
   "source": [
    "# Close connection\n",
    "db.close"
   ]
  }
 ],
 "metadata": {
  "kernelspec": {
   "display_name": "Python 2",
   "language": "python",
   "name": "python2"
  },
  "language_info": {
   "codemirror_mode": {
    "name": "ipython",
    "version": 2
   },
   "file_extension": ".py",
   "mimetype": "text/x-python",
   "name": "python",
   "nbconvert_exporter": "python",
   "pygments_lexer": "ipython2",
   "version": "2.7.11"
  }
 },
 "nbformat": 4,
 "nbformat_minor": 0
}
