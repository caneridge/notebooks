{
 "cells": [
  {
   "cell_type": "code",
   "execution_count": null,
   "metadata": {
    "collapsed": false
   },
   "outputs": [],
   "source": [
    "import yaml"
   ]
  },
  {
   "cell_type": "markdown",
   "metadata": {},
   "source": [
    "# Write a YAML file\n",
    "\n",
    "Documentation\n",
    "http://www.yaml.org/spec/"
   ]
  },
  {
   "cell_type": "code",
   "execution_count": null,
   "metadata": {
    "collapsed": false
   },
   "outputs": [],
   "source": [
    "import yaml\n",
    "filename = 'example-data.yml'"
   ]
  },
  {
   "cell_type": "code",
   "execution_count": null,
   "metadata": {
    "collapsed": false
   },
   "outputs": [],
   "source": [
    "struct = {'roles': ['role1', ['file1', {'nickname': 'file1', 'values': {'key1': 'value'}}]]}\n",
    "\n",
    "print struct\n",
    "\n",
    "with open(filename, 'w') as yaml_output:\n",
    "    yaml_output.write( yaml.dump(struct, default_flow_style=False) )\n",
    "    \n",
    "with open(filename, mode=\"r\") as fh:\n",
    "    print(fh.read())"
   ]
  },
  {
   "cell_type": "markdown",
   "metadata": {},
   "source": [
    "# Read the file just written"
   ]
  },
  {
   "cell_type": "code",
   "execution_count": null,
   "metadata": {
    "collapsed": false
   },
   "outputs": [],
   "source": [
    "with open(filename, 'r') as yaml_input:\n",
    "    for line in yaml_input:\n",
    "        print line.rstrip('\\n')"
   ]
  },
  {
   "cell_type": "code",
   "execution_count": null,
   "metadata": {
    "collapsed": false
   },
   "outputs": [],
   "source": [
    "string = \"\"\"\\\n",
    "---\n",
    "environment: STE\n",
    "schema-version: 1\n",
    "---\n",
    "TEST1:\n",
    "- file: {file1}\n",
    "  values:\n",
    "  - key: key1\n",
    "    value: value1\n",
    "    comment: blaw\n",
    "  - key: key2\n",
    "    value: value2\n",
    "    comment: blaw blaw\n",
    "\n",
    "\"\"\""
   ]
  },
  {
   "cell_type": "code",
   "execution_count": null,
   "metadata": {
    "collapsed": false
   },
   "outputs": [],
   "source": [
    "import yaml\n",
    "struct = yaml.load_all(string)\n",
    "\n",
    "for s in struct:\n",
    "    print s\n"
   ]
  },
  {
   "cell_type": "code",
   "execution_count": null,
   "metadata": {
    "collapsed": false
   },
   "outputs": [],
   "source": [
    "print yaml.dump(\n",
    "    {'ROLE1': \n",
    "         {'C:\\\\Users\\\\brian.jones\\\\Desktop\\\\ipy\\\\template1.txt': \n",
    "               {'nickname': 'file1', 'values': \n",
    "                    {\n",
    "                    'read_write_password': 'RWDB-PW', \n",
    "                    'read_write_db': 'RWDB'\n",
    "                    }\n",
    "               }\n",
    "         }\n",
    "    }\n",
    "    , default_flow_style=False)"
   ]
  },
  {
   "cell_type": "code",
   "execution_count": null,
   "metadata": {
    "collapsed": false
   },
   "outputs": [],
   "source": [
    "print yaml.dump(\n",
    "    {'ROLE1': \n",
    "         [\n",
    "            {\n",
    "                'file': 'fqfn1',\n",
    "                'nickname': 'file1',\n",
    "                'values': \n",
    "                {\n",
    "                    'key1': 'value1'\n",
    "                }\n",
    "            },\n",
    "            {\n",
    "                'file': 'fqfn2',\n",
    "                'nickname': 'file2',\n",
    "                'values': \n",
    "                {\n",
    "                    'key2': 'value2'\n",
    "                }\n",
    "            }\n",
    "        ]\n",
    "    }\n",
    "    , default_flow_style=False)"
   ]
  },
  {
   "cell_type": "code",
   "execution_count": null,
   "metadata": {
    "collapsed": false
   },
   "outputs": [],
   "source": [
    "l = [1,2]\n",
    "print l.pop(0)\n",
    "l"
   ]
  },
  {
   "cell_type": "code",
   "execution_count": null,
   "metadata": {
    "collapsed": false
   },
   "outputs": [],
   "source": [
    "\"hello there\" in \"thisx  hello there now\""
   ]
  },
  {
   "cell_type": "code",
   "execution_count": null,
   "metadata": {
    "collapsed": true
   },
   "outputs": [],
   "source": []
  }
 ],
 "metadata": {
  "kernelspec": {
   "display_name": "Python 2",
   "language": "python",
   "name": "python2"
  },
  "language_info": {
   "codemirror_mode": {
    "name": "ipython",
    "version": 2
   },
   "file_extension": ".py",
   "mimetype": "text/x-python",
   "name": "python",
   "nbconvert_exporter": "python",
   "pygments_lexer": "ipython2",
   "version": "2.7.11"
  }
 },
 "nbformat": 4,
 "nbformat_minor": 0
}
