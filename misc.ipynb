{
 "cells": [
  {
   "cell_type": "code",
   "execution_count": null,
   "metadata": {
    "collapsed": false
   },
   "outputs": [],
   "source": [
    "for i in range(10):\n",
    "    print i"
   ]
  },
  {
   "cell_type": "code",
   "execution_count": null,
   "metadata": {
    "collapsed": false
   },
   "outputs": [],
   "source": [
    "# reverse string\n",
    "\"abc\"[::-1]"
   ]
  },
  {
   "cell_type": "code",
   "execution_count": null,
   "metadata": {
    "collapsed": false
   },
   "outputs": [],
   "source": [
    "len([1,2,3])"
   ]
  },
  {
   "cell_type": "code",
   "execution_count": null,
   "metadata": {
    "collapsed": false
   },
   "outputs": [],
   "source": [
    "print \"Update a string with {stuff}\".format(stuff=\"goes here\")"
   ]
  },
  {
   "cell_type": "code",
   "execution_count": null,
   "metadata": {
    "collapsed": false
   },
   "outputs": [],
   "source": [
    "hash = {'a': 1, 'b': 2, 'c': 3}\n",
    "# As list\n",
    "print hash.keys()\n",
    "\n",
    "# as individual things\n",
    "for thing in hash:\n",
    "    print thing"
   ]
  },
  {
   "cell_type": "code",
   "execution_count": null,
   "metadata": {
    "collapsed": true
   },
   "outputs": [],
   "source": [
    "import os\n",
    "import re\n",
    "\n",
    "def find_it_pepper(find_dir, find_re):\n",
    "    largest_version = 0\n",
    "    hits = {}\n",
    "    m = re.compile(find_re)\n",
    "    for dir in os.listdir(find_dir):\n",
    "        if m.match(dir):\n",
    "            fn = m.match(dir).group('fn')\n",
    "            ver = m.match(dir).group('ver')\n",
    "            hits[ver] = fn\n",
    "            if ver > largest_version:\n",
    "                largest_version = ver\n",
    "    \n",
    "    if largest_version > 0:\n",
    "        found_fn = hits[largest_version]\n",
    "\n",
    "        if re.compile(r'.*\\.rpm$').match(found_fn, re.IGNORECASE):\n",
    "            return (found_fn, largest_version, 'rpm')\n",
    "        elif re.compile(r'.*\\.war$').match(found_fn, re.IGNORECASE):\n",
    "            return (found_fn, largest_version, 'war')\n",
    "        \n",
    "    return (None, None, None)"
   ]
  },
  {
   "cell_type": "code",
   "execution_count": null,
   "metadata": {
    "collapsed": false
   },
   "outputs": [],
   "source": [
    "(fn, ver, ftype) = find_it_pepper(\n",
    "    '/Users/brian.jones/Desktop/CODE/git/business_services/ansible', \n",
    "    r'(?P<fn>^ts-funding-(?P<ver>\\d+)[\\S]+)'\n",
    ")\n",
    "\n",
    "print(\"FN: {} VER: {} TYPE: {}\".format(fn, ver, ftype))"
   ]
  },
  {
   "cell_type": "code",
   "execution_count": null,
   "metadata": {
    "collapsed": false
   },
   "outputs": [],
   "source": [
    "    import re\n",
    "    import os\n",
    "\n",
    "    find_re = '(?P<fn>^(ts-)?notifier-(?P<ver>\\d+)\\S+)'\n",
    "    find_dir = \"/Users/brian.jones/Desktop/vagrant/fde/gary\"\n",
    "    \n",
    "    m = re.compile(find_re)\n",
    "    extension = re.compile('.+\\.((war)|(rpm))$', re.IGNORECASE)\n",
    "    \n",
    "    for dir in os.listdir(find_dir):\n",
    "        if m.match(dir) and extension.match(dir):\n",
    "            fn = m.match(dir).group('fn')\n",
    "            ver = m.match(dir).group('ver')\n",
    "            print(fn)"
   ]
  },
  {
   "cell_type": "code",
   "execution_count": null,
   "metadata": {
    "collapsed": false
   },
   "outputs": [],
   "source": [
    "a = []\n",
    "a.append('foo')\n",
    "a.append('bar')5\n",
    "a"
   ]
  },
  {
   "cell_type": "code",
   "execution_count": null,
   "metadata": {
    "collapsed": false
   },
   "outputs": [],
   "source": [
    "print \"\\n\".join(a)"
   ]
  },
  {
   "cell_type": "code",
   "execution_count": null,
   "metadata": {
    "collapsed": false
   },
   "outputs": [],
   "source": [
    "a = None\n",
    "b = 3\n",
    "max(a,b)"
   ]
  },
  {
   "cell_type": "code",
   "execution_count": null,
   "metadata": {
    "collapsed": true
   },
   "outputs": [],
   "source": [
    "c"
   ]
  },
  {
   "cell_type": "code",
   "execution_count": null,
   "metadata": {
    "collapsed": false
   },
   "outputs": [],
   "source": [
    "%%timeit\n",
    "li = [0] * 100\n",
    "lii = [li] * 100"
   ]
  },
  {
   "cell_type": "code",
   "execution_count": null,
   "metadata": {
    "collapsed": false
   },
   "outputs": [],
   "source": [
    "%%timeit\n",
    "lii = [[0 for x in xrange(100)] for y in xrange(100)]"
   ]
  },
  {
   "cell_type": "code",
   "execution_count": null,
   "metadata": {
    "collapsed": false
   },
   "outputs": [],
   "source": [
    "b = [[0] * 3][:] * 10\n",
    "\n",
    "b[0][2] = 2\n",
    "b"
   ]
  },
  {
   "cell_type": "code",
   "execution_count": null,
   "metadata": {
    "collapsed": false
   },
   "outputs": [],
   "source": [
    "%%timeit\n",
    "a=[]\n",
    "aa = [0] * 100\n",
    "a = [aa[:] for x in xrange(100)]"
   ]
  },
  {
   "cell_type": "code",
   "execution_count": null,
   "metadata": {
    "collapsed": false
   },
   "outputs": [],
   "source": [
    "a[0][1] = 1"
   ]
  },
  {
   "cell_type": "code",
   "execution_count": null,
   "metadata": {
    "collapsed": false
   },
   "outputs": [],
   "source": [
    "a"
   ]
  },
  {
   "cell_type": "code",
   "execution_count": null,
   "metadata": {
    "collapsed": false
   },
   "outputs": [],
   "source": [
    "aa"
   ]
  },
  {
   "cell_type": "code",
   "execution_count": null,
   "metadata": {
    "collapsed": false
   },
   "outputs": [],
   "source": [
    "%%timeit\n",
    "import copy\n",
    "x = 100\n",
    "y = 100\n",
    "bb = [0] * x\n",
    "b = [bb[:] for x in xrange(y)]"
   ]
  },
  {
   "cell_type": "code",
   "execution_count": null,
   "metadata": {
    "collapsed": true
   },
   "outputs": [],
   "source": [
    "b[0][1] = 22"
   ]
  },
  {
   "cell_type": "code",
   "execution_count": null,
   "metadata": {
    "collapsed": false
   },
   "outputs": [],
   "source": [
    "b"
   ]
  },
  {
   "cell_type": "code",
   "execution_count": null,
   "metadata": {
    "collapsed": true
   },
   "outputs": [],
   "source": []
  }
 ],
 "metadata": {
  "kernelspec": {
   "display_name": "Python 2",
   "language": "python",
   "name": "python2"
  },
  "language_info": {
   "codemirror_mode": {
    "name": "ipython",
    "version": 2
   },
   "file_extension": ".py",
   "mimetype": "text/x-python",
   "name": "python",
   "nbconvert_exporter": "python",
   "pygments_lexer": "ipython2",
   "version": "2.7.11"
  }
 },
 "nbformat": 4,
 "nbformat_minor": 0
}
