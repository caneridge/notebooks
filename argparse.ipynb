{
 "cells": [
  {
   "cell_type": "markdown",
   "metadata": {},
   "source": [
    "# argparse\n",
    "\n",
    "## Documentation\n",
    "\n",
    "* https://docs.python.org/2/library/argparse.html\n",
    "* Tutorial - https://docs.python.org/2/howto/argparse.html#id1\n",
    "* add_argument - https://docs.python.org/2/library/argparse.html#the-add-argument-method\n"
   ]
  },
  {
   "cell_type": "code",
   "execution_count": null,
   "metadata": {
    "collapsed": false
   },
   "outputs": [],
   "source": [
    "import argparse\n",
    "import sys\n",
    "\n",
    "def setup():\n",
    "    parser = argparse.ArgumentParser(description=\"Description of program\")\n",
    "    \n",
    "    # Only one argument in this group can be used\n",
    "    # group = parser.add_mutually_exclusive_group()\n",
    "    \n",
    "    parser.add_argument(\n",
    "        \"-v\", \n",
    "        \"--verbose\",\n",
    "        action=\"store_true\",\n",
    "        help=\"Boolean flag\"\n",
    "        )\n",
    "\n",
    "    # --argument value\n",
    "    # value stored in args.argument\n",
    "    parser.add_argument(\"--argument\", dest='baz', action=\"store\", help=\"Some argument that takes a value\")\n",
    "\n",
    "    # results of parsing arguments\n",
    "    args = parser.parse_args()\n",
    "    \n",
    "    print \"ARGUMENT VALUES\\n\"\n",
    "    if args.verbose:\n",
    "        print \"Verbose: on\"\n",
    "    else:\n",
    "        print \"Verbose: off\"\n",
    "\n",
    "    print \"--argument {arg}\".format(arg=args.baz)\n",
    "    "
   ]
  },
  {
   "cell_type": "code",
   "execution_count": null,
   "metadata": {
    "collapsed": false
   },
   "outputs": [],
   "source": [
    "sys.argv = ['-h', '--argument', 'argument-value', '-v']\n",
    "setup()"
   ]
  },
  {
   "cell_type": "code",
   "execution_count": null,
   "metadata": {
    "collapsed": false
   },
   "outputs": [],
   "source": [
    "sys.argv = ['program', '--verbose']\n",
    "setup()"
   ]
  },
  {
   "cell_type": "code",
   "execution_count": null,
   "metadata": {
    "collapsed": false
   },
   "outputs": [],
   "source": [
    "sys.argv = ['program', '--badarg']\n",
    "setup()"
   ]
  },
  {
   "cell_type": "code",
   "execution_count": null,
   "metadata": {
    "collapsed": false
   },
   "outputs": [],
   "source": []
  }
 ],
 "metadata": {
  "kernelspec": {
   "display_name": "Python 2",
   "language": "python",
   "name": "python2"
  },
  "language_info": {
   "codemirror_mode": {
    "name": "ipython",
    "version": 2
   },
   "file_extension": ".py",
   "mimetype": "text/x-python",
   "name": "python",
   "nbconvert_exporter": "python",
   "pygments_lexer": "ipython2",
   "version": "2.7.11"
  }
 },
 "nbformat": 4,
 "nbformat_minor": 0
}
